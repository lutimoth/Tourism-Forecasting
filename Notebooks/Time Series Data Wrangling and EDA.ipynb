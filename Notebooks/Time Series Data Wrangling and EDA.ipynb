{
 "cells": [
  {
   "cell_type": "markdown",
   "id": "d6a32e96",
   "metadata": {},
   "source": [
    "# Data Wrangling and Exploratory Data Analysis\n",
    "\n",
    "In this notebook, we aim to examine the data in both the Accomodation and Tourism visit datasets to see what relationship and interesting information we can glean from these datasets. Our end goal is to perform forecasting predictions on these datasets."
   ]
  }
 ],
 "metadata": {
  "kernelspec": {
   "display_name": "Python 3 (ipykernel)",
   "language": "python",
   "name": "python3"
  },
  "language_info": {
   "codemirror_mode": {
    "name": "ipython",
    "version": 3
   },
   "file_extension": ".py",
   "mimetype": "text/x-python",
   "name": "python",
   "nbconvert_exporter": "python",
   "pygments_lexer": "ipython3",
   "version": "3.9.7"
  }
 },
 "nbformat": 4,
 "nbformat_minor": 5
}
