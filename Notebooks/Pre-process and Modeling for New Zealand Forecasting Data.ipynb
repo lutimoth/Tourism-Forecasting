{
 "cells": [
  {
   "cell_type": "markdown",
   "id": "cc115e48",
   "metadata": {},
   "source": [
    "# New Zealand Time-series Forecasting Model"
   ]
  },
  {
   "cell_type": "markdown",
   "id": "fe501545",
   "metadata": {},
   "source": [
    "# Pre-processing and Modeling \n",
    "\n",
    "In this notebook we are going to do pre-processing and modeling on our time-series data. We are going to decide what we want to focus on with this modeling. \n",
    "\n",
    "We'll start with the tourism arrivals data and then look at the accomodation data. \n",
    "\n",
    "We will beging by importing the necessary packages for looking at the data and creating our models.\n",
    "\n",
    "[1.0 Tourism Data](#1.0-Tourism-Data)\n",
    "\n",
    "[2.0 Accomodation Data](#2.0-Accomodation-Data)"
   ]
  },
  {
   "cell_type": "code",
   "execution_count": 1,
   "id": "29e22010",
   "metadata": {},
   "outputs": [],
   "source": [
    "# Import data processing packages\n",
    "import pandas as pd\n",
    "import numpy as np\n",
    "from datetime import timedelta\n",
    "from sklearn.metrics import mean_squared_error\n",
    "\n",
    "#Time Series Packages\n",
    "from statsmodels.tsa.seasonal import seasonal_decompose\n",
    "from statsmodels.graphics import tsaplots\n",
    "from statsmodels.tsa.stattools import adfuller\n",
    "from statsmodels.tsa.stattools import kpss\n",
    "from statsmodels.tsa.arima.model import ARIMA\n",
    "from statsmodels.tsa.statespace.sarimax import SARIMAX\n",
    "from sklearn.model_selection import TimeSeriesSplit\n",
    "\n",
    "#Modeling packages\n",
    "from sklearn.pipeline import make_pipeline\n",
    "from sklearn.preprocessing import PolynomialFeatures\n",
    "from sklearn.linear_model import LinearRegression\n",
    "import datetime as dt\n",
    "\n",
    "#Visualization \n",
    "import matplotlib. pyplot as plt\n",
    "import seaborn as sns"
   ]
  },
  {
   "cell_type": "markdown",
   "id": "73dcc53c",
   "metadata": {},
   "source": [
    "# 1.0 Tourism Data\n",
    "For our `arrivals` data we are going to look at the following regions as these have the most complete time-series data:\n",
    "> - Auckland\n",
    "> - Christchurch\n",
    "> - Wellington\n",
    "> - Queenstown\n",
    "> - All New Zealand Ports\n",
    "    \n",
    "For each of these regions, we are going to look at the following reasons for travel:\n",
    "> - Business\n",
    "> - Holiday\n",
    "> - Visiting Friends\n",
    "> - Total Travel\n",
    "\n",
    "We want to create the most complete picture that we can for our forecasting and making sure we work on creating as thorough of a forecasting as we can."
   ]
  },
  {
   "cell_type": "code",
   "execution_count": null,
   "id": "abe8818e",
   "metadata": {},
   "outputs": [],
   "source": []
  },
  {
   "cell_type": "code",
   "execution_count": null,
   "id": "11af2f78",
   "metadata": {},
   "outputs": [],
   "source": []
  },
  {
   "cell_type": "code",
   "execution_count": null,
   "id": "a58cc089",
   "metadata": {},
   "outputs": [],
   "source": []
  },
  {
   "cell_type": "code",
   "execution_count": null,
   "id": "6c6572fc",
   "metadata": {},
   "outputs": [],
   "source": []
  },
  {
   "cell_type": "code",
   "execution_count": null,
   "id": "abd6bdc1",
   "metadata": {},
   "outputs": [],
   "source": []
  },
  {
   "cell_type": "code",
   "execution_count": null,
   "id": "8824f2a0",
   "metadata": {},
   "outputs": [],
   "source": []
  },
  {
   "cell_type": "markdown",
   "id": "3228ea27",
   "metadata": {},
   "source": [
    "# 2.0 Accomodation-Data"
   ]
  },
  {
   "cell_type": "code",
   "execution_count": null,
   "id": "fa466e6b",
   "metadata": {},
   "outputs": [],
   "source": []
  },
  {
   "cell_type": "code",
   "execution_count": null,
   "id": "cdd8c119",
   "metadata": {},
   "outputs": [],
   "source": []
  },
  {
   "cell_type": "code",
   "execution_count": null,
   "id": "3efcf243",
   "metadata": {},
   "outputs": [],
   "source": []
  },
  {
   "cell_type": "code",
   "execution_count": null,
   "id": "9b17d934",
   "metadata": {},
   "outputs": [],
   "source": []
  },
  {
   "cell_type": "code",
   "execution_count": null,
   "id": "5ba78905",
   "metadata": {},
   "outputs": [],
   "source": []
  },
  {
   "cell_type": "code",
   "execution_count": null,
   "id": "a8863e9c",
   "metadata": {},
   "outputs": [],
   "source": []
  },
  {
   "cell_type": "code",
   "execution_count": null,
   "id": "a1c6c09f",
   "metadata": {},
   "outputs": [],
   "source": []
  },
  {
   "cell_type": "code",
   "execution_count": null,
   "id": "19e50dc2",
   "metadata": {},
   "outputs": [],
   "source": []
  },
  {
   "cell_type": "code",
   "execution_count": null,
   "id": "cc0072f1",
   "metadata": {},
   "outputs": [],
   "source": []
  },
  {
   "cell_type": "code",
   "execution_count": null,
   "id": "d0669176",
   "metadata": {},
   "outputs": [],
   "source": []
  },
  {
   "cell_type": "code",
   "execution_count": null,
   "id": "6fc80798",
   "metadata": {},
   "outputs": [],
   "source": []
  }
 ],
 "metadata": {
  "kernelspec": {
   "display_name": "Python 3 (ipykernel)",
   "language": "python",
   "name": "python3"
  },
  "language_info": {
   "codemirror_mode": {
    "name": "ipython",
    "version": 3
   },
   "file_extension": ".py",
   "mimetype": "text/x-python",
   "name": "python",
   "nbconvert_exporter": "python",
   "pygments_lexer": "ipython3",
   "version": "3.9.7"
  }
 },
 "nbformat": 4,
 "nbformat_minor": 5
}
