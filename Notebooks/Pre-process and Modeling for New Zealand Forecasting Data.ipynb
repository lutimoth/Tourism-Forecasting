{
 "cells": [
  {
   "cell_type": "markdown",
   "id": "e94fdcce",
   "metadata": {
    "kernel": "SoS"
   },
   "source": [
    "# New Zealand Time-series Forecasting Model"
   ]
  },
  {
   "cell_type": "markdown",
   "id": "43ad16e4",
   "metadata": {
    "kernel": "SoS"
   },
   "source": [
    "# Pre-processing and Modeling \n",
    "\n",
    "In this notebook we are going to do pre-processing and modeling on our time-series data. We are going to decide what we want to focus on with this modeling. \n",
    "\n",
    "We'll start with the tourism arrivals data and then look at the accomodation data. \n",
    "\n",
    "We will beging by importing the necessary packages for looking at the data and creating our models.\n",
    "\n",
    "<font size = \"4\">**[1.0 Modeling Tourism Data](#1.0-Modeling-Tourism-Data)**</font>\n",
    "- **[1.1 Modeling Business Time Series](#1.1-Modeling-Business-Time-Series)**\n",
    "    - [1.1.1 Modeling Business Visits to Auckland (Exp. Smoothing)](#1.1.1-Modeling-Business-Visits-to-Auckland-(Exp.-Smoothing))\n",
    "    - [1.1.2 Modeling Business Visits to Christchurch (SARIMAX)](#1.1.2-Modeling-Business-Visits-to-Christchurch-(SARIMAX))\n",
    "    - [1.1.3 Modeling Business Visits to Wellington (Exp. Smoothing)](#1.1.3-Modeling-Business-Visits-to-Wellington-(Exp.-Smoothing))\n",
    "    - [1.1.4 Modeling Business Visits to Queenstown (ETS)](#1.1.4-Modeling-Business-Visits-to-Queenstown-(ETS))\n",
    "    - [1.1.5 Modeling Business Visits to New Zealand (Exp. Smoothing)](#1.1.5-Modeling-Business-Visits-to-New-Zealand-(Exp.-Smoothing))\n",
    "- **[1.2 Modeling Holiday and Vacation Visits Time Series](#1.2-Modeling-Holiday-and-Vacation-Visits)**\n",
    "    - [1.2.1 Modeling Holiday and Vacation Visits to Auckland (Exp. Smoothing)](#1.2.1-Modeling-Holiday-and-Vacation-Visits-to-Auckland-(Exp.-Smoothing))\n",
    "    - [1.2.2 Modeling Holiday and Vacation Visits to Christchurch (ARIMA)](#1.2.2-Modeling-Holiday-and-Vacation-Visits-to-Christchurch-(ARIMA))\n",
    "    - [1.2.3 Modeling Holiday and Vacation Visits to Wellington (ETS)](#1.2.3-Modeling-Holiday-and-Vacation-Visits-to-Wellington-(ETS))\n",
    "    - [1.2.4 Modeling Holiday and Vacation Visits to Queenstown (ETS)](#1.2.4-Modeling-Holiday-and-Vacation-Visits-to-Queenstown-(ETS))\n",
    "    - [1.2.5 Modeling Holiday and Vacation Visits to New Zealand (BATS)](#1.2.5-Modeling-Holiday-and-Vacation-Visits-to-New-Zealand-(BATS))\n",
    "- **[1.3 Modeling All Travel to Ports](#1.3-Modeling-All-Travel-to-Ports)**\n",
    "  - [1.3.1 Modeling All Travel to Auckland (ETS)](#1.3.1-Modeling-All-Travel-to-Auckland-(ETS))\n",
    "  - [1.3.2 Modeling All Travel to Christchurch (ARIMA)](#1.3.2-Modeling-All-Travel-to-Christchurch-(ARIMA))\n",
    "  - [1.3.3 Modeling All Travel to Wellington (ETS)](#1.3.3-Modeling-All-Travel-to-Wellington-(ETS))\n",
    "  \n",
    "  - [1.3.4 Modeling All Travel to Queenstown (Auto_ARIMA)](#1.3.4-Modeling-All-Travel-to-Queenstown-(Auto_ARIMA))\n",
    "  - [1.3.5 Modeling All Travel to New Zealand (Exp. Smoothing)](#1.3.5-Modeling-All-Travel-to-New-Zealand-(Exp.-Smoothing))\n",
    "\n",
    "<font size = \"4\">**[2.0 Modeling Accomodation Data](#2.0-Modeling-Accomodation-Data)**</font>\n",
    "\n",
    "\n",
    "  - **[2.1 All Accomodation Occupancy Models](#2.1-All-Accomodation-Occupancy-Models)**\n",
    "    - [2.1.1 Modeling Total Occupancy in Auckland (Random Forest)](#2.1.1-Modeling-Total-Occupancy-in-Auckland-(Random-Forest))\n",
    "    - [2.1.2 Modeling Total Occupancy in Canterbury (ETS)](#2.1.2-Modeling-Total-Occupancy-in-Canterbury-(ETS))\n",
    "    - [2.1.3 Modeling Total Occupancy in Wellington (FB Prophet)](#2.1.3-Modeling-Total-Occupancy-in-Wellington-(FB-Prophet))\n",
    "    - [2.1.4 Modeling Total Occupancy in Queenstown (AdaBoost)](#2.1.4-Modeling-Total-Occupancy-in-Queenstown-(AdaBoost))\n",
    "    - [2.1.5 Modeling Total Occupancy in New Zealand (K-Nearest Neighbors)](#2.1.5-Modeling-Total-Occupancy-in-New-Zealand-(K-Nearest-Neighbors))\n",
    "  - **[2.2 Modeling Motel Occupancy](#2.2-Modeling-Motel-Occupancy)**\n",
    "    - [2.2.1 Modeling Motel Occupancy in Auckland (ETS)](#2.2.1-Modeling-Motel-Occupancy-in-Auckland-(ETS))\n",
    "    - [2.2.2 Modeling Motel Occupancy in Canterbury (AdaBoost)](#2.2.2-Modeling-Motel-Occupancy-in-Canterbury-(AdaBoost))\n",
    "    - [2.2.3 Modeling Motel Occupancy in Wellington (Random Forest)](#2.2.3-Modeling-Motel-Occupancy-in-Wellington-(Random-Forest))\n",
    "    - [2.2.4 Modeling Motel Occupancy in Queenstown (BATS)](#2.2.4-Modeling-Motel-Occupancy-in-Queenstown-(BATS))\n",
    "    - [2.2.5 Modeling Motel Occupancy in New Zealand (LightGBM)](#2.2.5-Modeling-Motel-Occupancy-in-New-Zealand-(LightGBM))\n",
    "  - **[2.3 Modeling Hotel Occupancy](#2.3-Modeling-Hotel-Occupancy)**\n",
    "    - [2.3.1 Modeling Hotel Occupancy in Auckland (Random Forest)](#2.3.1-Modeling-Hotel-Occupancy-in-Auckland-(Random-Forest))\n",
    "    - [2.3.2 Modeling Hotel Occupancy in Canterbury (Exp. Smoothing)](#2.3.2-Modeling-Hotel-Occupancy-in-Canterbury-(Exp.-Smoothing))\n",
    "    - [2.3.3 Modeling Hotel Occupancy in Wellington (Random Forest)](#2.3.3-Modeling-Hotel-Occupancy-in-Wellington-(Random-Forest))\n",
    "    - [2.3.4 Modeling Hotel Occupancy in Queenstown (FB Prophet)](#2.3.4-Modeling-Hotel-Occupancy-in-Queenstown-(FB-Prophet))\n",
    "    - [2.3.5 Modeling Hotel Occupancy in New Zealand (ETS)](#2.3.5-Modeling-Hotel-Occupancy-in-New-Zealand-(ETS))"
   ]
  },
  {
   "cell_type": "code",
   "execution_count": 1,
   "id": "c6b128ca",
   "metadata": {
    "kernel": "SoS"
   },
   "outputs": [],
   "source": [
    "# Import data processing packages\n",
    "import pandas as pd\n",
    "import numpy as np\n",
    "\n",
    "#Time Series and Metrics Packages\n",
    "from statsmodels.tsa.seasonal import seasonal_decompose\n",
    "from statsmodels.tsa.stattools import adfuller, kpss\n",
    "from statsmodels.graphics.tsaplots import plot_acf, plot_pacf\n",
    "from sklearn.metrics import mean_absolute_error\n",
    "from prophet.diagnostics import performance_metrics, cross_validation\n",
    "\n",
    "#Time Series Modeling Packages\n",
    "from statsmodels.tsa.holtwinters import ExponentialSmoothing\n",
    "from pmdarima import auto_arima\n",
    "from statsmodels.tsa.statespace import sarimax \n",
    "from statsmodels.tsa.exponential_smoothing.ets import ETSModel\n",
    "from darts.models.forecasting import tbats\n",
    "from darts.models.forecasting.gradient_boosted_model import LightGBMModel\n",
    "from darts.models.forecasting.random_forest import RandomForest\n",
    "from darts import TimeSeries\n",
    "from sklearn.ensemble import RandomForestRegressor, AdaBoostClassifier\n",
    "from sklearn.neighbors import KNeighborsRegressor\n",
    "from prophet import Prophet\n",
    "import lightgbm as lgb\n",
    "\n",
    "#Visualization \n",
    "import matplotlib. pyplot as plt\n",
    "import seaborn as sns"
   ]
  },
  {
   "cell_type": "code",
   "execution_count": 2,
   "id": "fa215130",
   "metadata": {
    "kernel": "SoS"
   },
   "outputs": [],
   "source": [
    "import warnings\n",
    "warnings.filterwarnings(\"ignore\", category=FutureWarning) \n",
    "warnings.filterwarnings(\"ignore\", 'No frequency') "
   ]
  },
  {
   "cell_type": "markdown",
   "id": "9b6a95eb",
   "metadata": {
    "kernel": "SoS"
   },
   "source": [
    "# 1.0 Modeling Tourism Data\n",
    "For our `arrivals` data we are going to look at the following regions as these have the most complete time-series data:\n",
    "> - Auckland\n",
    "> - Christchurch\n",
    "> - Wellington\n",
    "> - Queenstown\n",
    "> - All New Zealand Ports\n",
    "    \n",
    "For each of these regions, we are going to look at the following reasons for travel:\n",
    "> - Business\n",
    "> - Holiday\n",
    "> - Visiting Friends\n",
    "> - Total Travel\n",
    "\n",
    "We want to create the most complete picture that we can for our forecasting and making sure we work on creating as thorough of a forecasting as we can. "
   ]
  },
  {
   "cell_type": "code",
   "execution_count": null,
   "id": "b0a3f1c5",
   "metadata": {
    "kernel": "SoS"
   },
   "outputs": [],
   "source": [
    "## Load our Tourism Data\n",
    "# Remove extra white space at end of column\n",
    "\n",
    "arrivals = pd.read_csv('../NZ Data/Arrivals Data Cleaned.csv', skipinitialspace = True, parse_dates = True, \\\n",
    "                       index_col = 0)\n",
    "arrivals.columns = arrivals.columns.str.replace(r' $','', regex = True)\n",
    "arrivals.columns"
   ]
  },
  {
   "cell_type": "code",
   "execution_count": null,
   "id": "1b1a1116",
   "metadata": {
    "kernel": "SoS"
   },
   "outputs": [],
   "source": [
    "# Check to make sure index is datetime\n",
    "arrivals.index"
   ]
  },
  {
   "cell_type": "code",
   "execution_count": null,
   "id": "d510cf1f",
   "metadata": {
    "kernel": "SoS"
   },
   "outputs": [],
   "source": [
    "arrivals.head(3)"
   ]
  },
  {
   "cell_type": "code",
   "execution_count": null,
   "id": "ab72f135",
   "metadata": {
    "kernel": "SoS"
   },
   "outputs": [],
   "source": [
    "# Load our model results from the pycaret notebook to look at which models might work best for us\n",
    "potential_models = pd.read_csv('../NZ Data/arrivals_model_results.csv',index_col = 0)\n",
    "potential_models.head()"
   ]
  },
  {
   "cell_type": "markdown",
   "id": "95c113f6",
   "metadata": {
    "kernel": "SoS"
   },
   "source": [
    "We have here the list of all of our models that we tested using the pycaret model. As discussed in our previous notebook, we are not interested in actually modeling out all of these trends due to issues with the data or lack of historic data. We'll start with looking at our Arrivals dataset. Please refer to the pycaret notebook in the GitHub Repository for more information on what the final models that were generated by pycaret were.\n",
    "\n",
    "We will be forecasting the following datasets from the Arrivals dataset:\n",
    "- TOTAL ALL TRAVEL PURPOSESAuckland\n",
    "- TOTAL ALL TRAVEL PURPOSESChristchurch\n",
    "- TOTAL ALL TRAVEL PURPOSESWellington\n",
    "- TOTAL ALL TRAVEL PURPOSESQueenstown\n",
    "- TOTAL ALL TRAVEL PURPOSESTOTAL NEW ZEALAND PORTS\n",
    "- BusinessAuckland\n",
    "- BusinessChristchurch\n",
    "- BusinessWellington\n",
    "- BusinessQueenstown\n",
    "- BusinessTOTAL NEW ZEALAND PORTS\n",
    "- Holiday/VacationAuckland\n",
    "- Holiday/VacationChristchurch\n",
    "- Holiday/VacationWellington\n",
    "- Holiday/VacationQueenstown\n",
    "- Holiday/VacationTOTAL NEW ZEALAND PORTS\n",
    "\n",
    "This is capture a wide breadth of models without overwhelming ourselves. Thus to make our above model results table more readable, we will subset and look at only the subset we are interested in."
   ]
  },
  {
   "cell_type": "code",
   "execution_count": null,
   "id": "18beba91",
   "metadata": {
    "kernel": "SoS"
   },
   "outputs": [],
   "source": [
    "# Creating list of subset\n",
    "\n",
    "arrivals_model_list = ['TOTAL ALL TRAVEL PURPOSESAuckland', 'TOTAL ALL TRAVEL PURPOSESChristchurch', \\\n",
    "                       'TOTAL ALL TRAVEL PURPOSESWellington', 'TOTAL ALL TRAVEL PURPOSESQueenstown',\\\n",
    "                      'TOTAL ALL TRAVEL PURPOSESTOTAL NEW ZEALAND PORTS',\\\n",
    "                      'BusinessAuckland','BusinessChristchurch','BusinessWellington', 'BusinessQueenstown',\\\n",
    "                      'BusinessTOTAL NEW ZEALAND PORTS',\\\n",
    "                      'Holiday/VacationAuckland','Holiday/VacationChristchurch', 'Holiday/VacationWellington',\\\n",
    "                      'Holiday/VacationQueenstown','Holiday/VacationTOTAL NEW ZEALAND PORTS']"
   ]
  },
  {
   "cell_type": "code",
   "execution_count": null,
   "id": "19dc136e",
   "metadata": {
    "kernel": "SoS"
   },
   "outputs": [],
   "source": [
    "arrivals_model_sub = potential_models[potential_models['time_series'].isin(arrivals_model_list)]\n",
    "arrivals_model_sub"
   ]
  },
  {
   "cell_type": "markdown",
   "id": "1e42b3f3",
   "metadata": {
    "kernel": "SoS"
   },
   "source": [
    "## 1.1 Modeling Business Time Series\n",
    "\n",
    "In this section we will model out our business model time series and analyze those results"
   ]
  },
  {
   "cell_type": "markdown",
   "id": "a79ad3d3",
   "metadata": {},
   "source": [
    "### 1.1.1 Modeling Business Visits to Auckland (Exp. Smoothing)"
   ]
  },
  {
   "cell_type": "code",
   "execution_count": null,
   "id": "a23e577e",
   "metadata": {
    "kernel": "SoS"
   },
   "outputs": [],
   "source": [
    "# Start with BusinessAuckland, we will use ExponentialSmoothing to model \n",
    "# First lets look at the data and understand its seasonality and ACF/PACF\n",
    "\n",
    "y = arrivals['BusinessAuckland']\n",
    "\n",
    "res = seasonal_decompose(y, model='mult')\n",
    "\n",
    "# Plot the original data, the trend, the seasonality, and the residuals \n",
    "fig, (ax1,ax2,ax3,ax4) = plt.subplots(4,1, figsize=(10,12), sharex=True);\n",
    "\n",
    "res.observed.plot(ax=ax1, title='Observed')\n",
    "res.seasonal.plot(ax=ax2, title='Seasonality')\n",
    "res.trend.plot(ax=ax3, title='Trend')\n",
    "res.resid.plot(ax=ax4, title='Residual IDs')"
   ]
  },
  {
   "cell_type": "markdown",
   "id": "be78a553",
   "metadata": {
    "kernel": "SoS"
   },
   "source": [
    "<br>\n",
    "Since we have opted to use exponential smoothing, we are not required to take the first difference <br>\n",
    "Exponential smoothing can handle trend data <br>\n",
    "The statsmodel implementation of Exponentail Smoothing also optimizes its hyperparameters \n",
    "<br>"
   ]
  },
  {
   "cell_type": "code",
   "execution_count": null,
   "id": "ce96adf3",
   "metadata": {
    "kernel": "SoS"
   },
   "outputs": [],
   "source": [
    "exp = ExponentialSmoothing(y, trend = 'mul', seasonal = 'mul', seasonal_periods = 12, damped_trend = True)"
   ]
  },
  {
   "cell_type": "code",
   "execution_count": null,
   "id": "67abb7bd",
   "metadata": {
    "kernel": "SoS"
   },
   "outputs": [],
   "source": [
    "exp_fit = exp.fit(method = 'bh')\n",
    "exp_fit.summary()"
   ]
  },
  {
   "cell_type": "code",
   "execution_count": null,
   "id": "9dbf036b",
   "metadata": {
    "kernel": "SoS"
   },
   "outputs": [],
   "source": [
    "plt.figure(figsize=(12,8))\n",
    "\n",
    "plt.title('Original and Predicted')\n",
    "plt.plot(y, label='Original')\n",
    "plt.plot(exp_fit.fittedvalues, alpha=0.7, label='Predicted')\n",
    "\n",
    "plt.legend()\n",
    "plt.show()"
   ]
  },
  {
   "cell_type": "code",
   "execution_count": null,
   "id": "a3645a55",
   "metadata": {
    "kernel": "SoS"
   },
   "outputs": [],
   "source": [
    "y_fore = exp_fit.forecast(36)"
   ]
  },
  {
   "cell_type": "code",
   "execution_count": null,
   "id": "413ce3ab",
   "metadata": {
    "kernel": "SoS"
   },
   "outputs": [],
   "source": [
    "plt.figure(figsize=(12,8))\n",
    "\n",
    "plt.plot(exp_fit.fittedvalues, alpha=0.7, label='Predicted')\n",
    "(line1,) = plt.plot(y_fore)"
   ]
  },
  {
   "cell_type": "markdown",
   "id": "513cb88d",
   "metadata": {},
   "source": [
    "### 1.1.2 Modeling Business Visits to Christchurch (SARIMAX)"
   ]
  },
  {
   "cell_type": "code",
   "execution_count": null,
   "id": "4a05f6cb",
   "metadata": {
    "kernel": "SoS"
   },
   "outputs": [],
   "source": [
    "# BUSINESS CHRISTCHURCH\n",
    "# Pycaret helped us decide that a linear model with deseasonilization and detrending would be the best model to utilize\n",
    "# Due to the linearity of this data, we shall use SARIMAX as it is the combination of Linear Regression and SARIMA \n",
    "\n",
    "y = arrivals['BusinessChristchurch']\n",
    "\n",
    "res = seasonal_decompose(y, model='add')\n",
    "\n",
    "# Plot the original data, the trend, the seasonality, and the residuals \n",
    "fig, (ax1,ax2,ax3,ax4) = plt.subplots(4,1, figsize=(10,12), sharex=True);\n",
    "\n",
    "res.observed.plot(ax=ax1, title='Observed')\n",
    "res.seasonal.plot(ax=ax2, title='Seasonality')\n",
    "res.trend.plot(ax=ax3, title='Trend')\n",
    "res.resid.plot(ax=ax4, title='Residual IDs')"
   ]
  },
  {
   "cell_type": "code",
   "execution_count": null,
   "id": "d4e73a85",
   "metadata": {
    "kernel": "SoS"
   },
   "outputs": [],
   "source": [
    "dftest = adfuller(y, autolag = 'AIC')\n",
    "print(\"1. ADF : \",dftest[0])\n",
    "print(\"2. P-Value : \", dftest[1])\n",
    "print(\"3. Num Of Lags : \", dftest[2])\n",
    "print(\"4. Num Of Observations Used For ADF Regression and Critical Values Calculation :\", dftest[3])\n",
    "print(\"5. Critical Values :\")\n",
    "for key, val in dftest[4].items():\n",
    "    print(\"\\t\",key, \": \", val)"
   ]
  },
  {
   "cell_type": "code",
   "execution_count": null,
   "id": "dbda07ef",
   "metadata": {
    "kernel": "SoS"
   },
   "outputs": [],
   "source": [
    "# Lets first look at the ACF and PACF \n",
    "\n",
    "fig, ax = plt.subplots(2, figsize=(8,12))\n",
    "\n",
    "# plot the ACF\n",
    "plot_acf(y, ax=ax[0], vlines_kwargs={'ls':'--', 'linewidth': 0.7}, lags=26)\n",
    "\n",
    "# place marker lines on lags 12 and 24 to highlight the seasonality\n",
    "ax[0].axvline(12, color='red', ls='--', alpha=0.8, lw=0.7, label='lag = 12')\n",
    "ax[0].axvline(24, color='orange', ls='--', alpha=1, lw=0.8, label='lag = 24')\n",
    "ax[0].legend()\n",
    "\n",
    "# plot the PACF\n",
    "plot_pacf(y, ax=ax[1], vlines_kwargs={'ls':'--', 'linewidth': 0.7}, lags=26)\n",
    "\n",
    "plt.show()"
   ]
  },
  {
   "cell_type": "code",
   "execution_count": null,
   "id": "b7c1d057",
   "metadata": {
    "kernel": "SoS"
   },
   "outputs": [],
   "source": [
    "#I will use auto_arima in order to determine ARIMA orders\n",
    "auto_arima(y, m=12).summary()"
   ]
  },
  {
   "cell_type": "code",
   "execution_count": null,
   "id": "c884132d",
   "metadata": {
    "kernel": "SoS"
   },
   "outputs": [],
   "source": [
    "model = sarimax.SARIMAX(y, order=(0,1,1), seasonal_order=(1,0,1,12))\n",
    "model_fit = model.fit()\n",
    "\n",
    "forecast = model_fit.forecast(24)\n",
    "pred = model_fit.predict()[12:]\n",
    "\n",
    "model_fit.summary()"
   ]
  },
  {
   "cell_type": "code",
   "execution_count": null,
   "id": "dbd5c09b",
   "metadata": {
    "kernel": "SoS"
   },
   "outputs": [],
   "source": [
    "# Looking at how our predicted models did\n",
    "plt.figure(figsize=(12,8))\n",
    "\n",
    "plt.title('Original and Predicted')\n",
    "plt.plot(y, label='Original')\n",
    "plt.plot(pred, alpha=0.7, label='Predicted')\n",
    "plt.plot(forecast, label='Forecasted Data', alpha=0.5, ls='--')\n",
    "\n",
    "plt.legend()\n",
    "plt.show()"
   ]
  },
  {
   "cell_type": "markdown",
   "id": "ecae0e21",
   "metadata": {},
   "source": [
    "### 1.1.3 Modeling Business Visits to Wellington (Exp. Smoothing)"
   ]
  },
  {
   "cell_type": "code",
   "execution_count": null,
   "id": "96758b5f",
   "metadata": {
    "kernel": "SoS"
   },
   "outputs": [],
   "source": [
    "# business wellington\n",
    "y = arrivals['BusinessWellington']\n",
    "\n",
    "res = seasonal_decompose(y, model='add')\n",
    "\n",
    "#'Plot the original data, the trend, the seasonality, and the residuals'\n",
    "fig, (ax1,ax2,ax3,ax4) = plt.subplots(4,1, figsize=(10,12), sharex=True);\n",
    "\n",
    "res.observed.plot(ax=ax1, title='Observed')\n",
    "res.seasonal.plot(ax=ax2, title='Seasonality')\n",
    "res.trend.plot(ax=ax3, title='Trend')\n",
    "res.resid.plot(ax=ax4, title='Residual IDs')"
   ]
  },
  {
   "cell_type": "code",
   "execution_count": null,
   "id": "6c01e05b",
   "metadata": {
    "kernel": "SoS"
   },
   "outputs": [],
   "source": [
    "exp = ExponentialSmoothing(y, trend = 'add', seasonal = 'add', seasonal_periods = 12, damped_trend = True)\n",
    "exp_fit = exp.fit(method = 'bh')\n",
    "\n",
    "plt.figure(figsize=(12,8))\n",
    "\n",
    "plt.title('Original and Predicted')\n",
    "plt.plot(y, label='Original')\n",
    "plt.plot(exp_fit.fittedvalues, alpha=0.7, label='Predicted')\n",
    "\n",
    "plt.legend()\n",
    "plt.show();"
   ]
  },
  {
   "cell_type": "code",
   "execution_count": null,
   "id": "301be9d8",
   "metadata": {
    "kernel": "SoS"
   },
   "outputs": [],
   "source": [
    "exp_fit.summary()"
   ]
  },
  {
   "cell_type": "code",
   "execution_count": null,
   "id": "c4ded353",
   "metadata": {
    "kernel": "SoS"
   },
   "outputs": [],
   "source": [
    "y_fore = exp_fit.forecast(36)\n",
    "plt.figure(figsize=(12,8))\n",
    "\n",
    "plt.plot(exp_fit.fittedvalues, alpha=0.7, label='Predicted')\n",
    "(line1,) = plt.plot(y_fore)"
   ]
  },
  {
   "cell_type": "markdown",
   "id": "150cb059",
   "metadata": {},
   "source": [
    "### 1.1.4 Modeling Business Visits to Queenstown (ETS)"
   ]
  },
  {
   "cell_type": "code",
   "execution_count": null,
   "id": "bf68a56a",
   "metadata": {
    "kernel": "SoS"
   },
   "outputs": [],
   "source": [
    "# Business Queenstown using ETS\n",
    "y = arrivals['BusinessQueenstown']\n",
    "\n",
    "res = seasonal_decompose(y, model='add')\n",
    "\n",
    "# Plot the original data, the trend, the seasonality, and the residuals \n",
    "fig, (ax1,ax2,ax3,ax4) = plt.subplots(4,1, figsize=(10,12), sharex=True);\n",
    "\n",
    "res.observed.plot(ax=ax1, title='Observed')\n",
    "res.seasonal.plot(ax=ax2, title='Seasonality')\n",
    "res.trend.plot(ax=ax3, title='Trend')\n",
    "res.resid.plot(ax=ax4, title='Residual IDs')"
   ]
  },
  {
   "cell_type": "code",
   "execution_count": null,
   "id": "dfc62fd0",
   "metadata": {
    "kernel": "SoS"
   },
   "outputs": [],
   "source": [
    "ETS = ETSModel(y, error = 'add', trend = 'add', seasonal = 'add', damped_trend = True, seasonal_periods = 12)\n",
    "ETS_fit = ETS.fit()\n",
    "\n",
    "plt.figure(figsize=(12,8))\n",
    "\n",
    "plt.title('Original and Predicted')\n",
    "plt.plot(y, label='Original')\n",
    "plt.plot(ETS_fit.fittedvalues, alpha=0.7, label='Predicted')\n",
    "\n",
    "plt.legend()\n",
    "plt.show()"
   ]
  },
  {
   "cell_type": "code",
   "execution_count": null,
   "id": "c3ad524e",
   "metadata": {
    "kernel": "SoS"
   },
   "outputs": [],
   "source": [
    "ETS_fit.summary()"
   ]
  },
  {
   "cell_type": "code",
   "execution_count": null,
   "id": "cd97348e",
   "metadata": {
    "kernel": "SoS"
   },
   "outputs": [],
   "source": [
    "y_fore = ETS_fit.forecast(36)\n",
    "plt.figure(figsize=(15,8))\n",
    "\n",
    "plt.plot(ETS_fit.fittedvalues, alpha=0.7, label='Predicted')\n",
    "(line1,) = plt.plot(y_fore)"
   ]
  },
  {
   "cell_type": "markdown",
   "id": "8cfb3480",
   "metadata": {},
   "source": [
    "### 1.1.5 Modeling Business Visits to New Zealand (Exp. Smoothing)"
   ]
  },
  {
   "cell_type": "code",
   "execution_count": null,
   "id": "10f55cd8",
   "metadata": {
    "kernel": "SoS"
   },
   "outputs": [],
   "source": [
    "#All BUsiness NZ\n",
    "y = arrivals['BusinessTOTAL NEW ZEALAND PORTS']\n",
    "\n",
    "res = seasonal_decompose(y, model='mul')\n",
    "\n",
    "# Plot the original data, the trend, the seasonality, and the residuals \n",
    "fig, (ax1,ax2,ax3,ax4) = plt.subplots(4,1, figsize=(10,12), sharex=True);\n",
    "\n",
    "res.observed.plot(ax=ax1, title='Observed')\n",
    "res.seasonal.plot(ax=ax2, title='Seasonality')\n",
    "res.trend.plot(ax=ax3, title='Trend')\n",
    "res.resid.plot(ax=ax4, title='Residual IDs')"
   ]
  },
  {
   "cell_type": "code",
   "execution_count": null,
   "id": "0f7eb692",
   "metadata": {
    "kernel": "SoS"
   },
   "outputs": [],
   "source": [
    "exp = ExponentialSmoothing(y, trend = 'mul', seasonal = 'mul', seasonal_periods = 12, damped_trend = True)\n",
    "exp_fit = exp.fit(method = 'ls')\n",
    "\n",
    "plt.figure(figsize=(12,8))\n",
    "\n",
    "plt.title('Original and Predicted')\n",
    "plt.plot(y, label='Original')\n",
    "plt.plot(exp_fit.fittedvalues, alpha=0.7, label='Predicted')\n",
    "\n",
    "plt.legend()\n",
    "plt.show()"
   ]
  },
  {
   "cell_type": "code",
   "execution_count": null,
   "id": "7e30035c",
   "metadata": {
    "kernel": "SoS"
   },
   "outputs": [],
   "source": [
    "exp_fit.summary()"
   ]
  },
  {
   "cell_type": "code",
   "execution_count": null,
   "id": "4a5f2f46",
   "metadata": {
    "kernel": "SoS"
   },
   "outputs": [],
   "source": [
    "y_fore = exp_fit.forecast(36)\n",
    "plt.figure(figsize=(15,8))\n",
    "\n",
    "plt.plot(exp_fit.fittedvalues, alpha=0.7, label='Predicted')\n",
    "(line1,) = plt.plot(y_fore)"
   ]
  },
  {
   "cell_type": "markdown",
   "id": "511738d3",
   "metadata": {},
   "source": [
    "## 1.2 Modeling Holiday and Vacation Visits"
   ]
  },
  {
   "cell_type": "markdown",
   "id": "5f4350ca",
   "metadata": {},
   "source": [
    "### 1.2.1 Modeling Holiday and Vacation Visits to Auckland (Exp. Smoothing)"
   ]
  },
  {
   "cell_type": "code",
   "execution_count": null,
   "id": "7be44700",
   "metadata": {
    "kernel": "SoS"
   },
   "outputs": [],
   "source": [
    "#Holiday/VacationAuckland Exp Smoothing\n",
    "y = arrivals['Holiday/VacationAuckland']\n",
    "\n",
    "res = seasonal_decompose(y, model='mul')\n",
    "\n",
    "# Plot the original data, the trend, the seasonality, and the residuals \n",
    "fig, (ax1,ax2,ax3,ax4) = plt.subplots(4,1, figsize=(10,12), sharex=True);\n",
    "\n",
    "res.observed.plot(ax=ax1, title='Observed')\n",
    "res.seasonal.plot(ax=ax2, title='Seasonality')\n",
    "res.trend.plot(ax=ax3, title='Trend')\n",
    "res.resid.plot(ax=ax4, title='Residual IDs')"
   ]
  },
  {
   "cell_type": "code",
   "execution_count": null,
   "id": "ede87653",
   "metadata": {
    "kernel": "SoS"
   },
   "outputs": [],
   "source": [
    "exp = ExponentialSmoothing(y, trend = 'mul', seasonal = 'mul', damped_trend = True)\n",
    "exp_fit = exp.fit(method = 'ls')\n",
    "\n",
    "plt.figure(figsize=(12,8))\n",
    "\n",
    "plt.title('Original and Predicted')\n",
    "plt.plot(y, label='Original')\n",
    "plt.plot(exp_fit.fittedvalues, alpha=0.7, label='Predicted')\n",
    "\n",
    "plt.legend()\n",
    "plt.show()"
   ]
  },
  {
   "cell_type": "code",
   "execution_count": null,
   "id": "98a06356",
   "metadata": {
    "kernel": "SoS"
   },
   "outputs": [],
   "source": [
    "exp_fit.summary()"
   ]
  },
  {
   "cell_type": "code",
   "execution_count": null,
   "id": "c030e492",
   "metadata": {
    "kernel": "SoS"
   },
   "outputs": [],
   "source": [
    "y_fore = exp_fit.forecast(36)\n",
    "plt.figure(figsize=(15,8))\n",
    "\n",
    "plt.plot(exp_fit.fittedvalues, alpha=0.7, label='Predicted')\n",
    "(line1,) = plt.plot(y_fore)"
   ]
  },
  {
   "cell_type": "markdown",
   "id": "4b8260e3",
   "metadata": {},
   "source": [
    "### 1.2.2 Modeling Holiday and Vacation Visits to Christchurch (ARIMA)"
   ]
  },
  {
   "cell_type": "code",
   "execution_count": null,
   "id": "f2512ef3",
   "metadata": {
    "kernel": "SoS"
   },
   "outputs": [],
   "source": [
    "#Holiday/VacationChristchurch ARIMA\n",
    "y = arrivals['Holiday/VacationChristchurch']\n",
    "\n",
    "res = seasonal_decompose(y, model='add')\n",
    "\n",
    "# Plot the original data, the trend, the seasonality, and the residuals \n",
    "fig, (ax1,ax2,ax3,ax4) = plt.subplots(4,1, figsize=(10,12), sharex=True);\n",
    "\n",
    "res.observed.plot(ax=ax1, title='Observed')\n",
    "res.seasonal.plot(ax=ax2, title='Seasonality')\n",
    "res.trend.plot(ax=ax3, title='Trend')\n",
    "res.resid.plot(ax=ax4, title='Residual IDs')"
   ]
  },
  {
   "cell_type": "code",
   "execution_count": null,
   "id": "fcf91590",
   "metadata": {
    "kernel": "SoS"
   },
   "outputs": [],
   "source": [
    "fig, ax = plt.subplots(2, figsize=(8,12))\n",
    "\n",
    "# plot the ACF\n",
    "plot_acf(y, ax=ax[0], vlines_kwargs={'ls':'--', 'linewidth': 0.7}, lags=26)\n",
    "\n",
    "# place marker lines on lags 12 and 24 to highlight the seasonality\n",
    "ax[0].axvline(12, color='red', ls='--', alpha=0.8, lw=0.7, label='lag = 12')\n",
    "ax[0].axvline(24, color='orange', ls='--', alpha=1, lw=0.8, label='lag = 24')\n",
    "ax[0].legend()\n",
    "\n",
    "# plot the PACF\n",
    "plot_pacf(y, ax=ax[1], vlines_kwargs={'ls':'--', 'linewidth': 0.7}, lags=26)\n",
    "\n",
    "plt.show()"
   ]
  },
  {
   "cell_type": "code",
   "execution_count": null,
   "id": "1590f04c",
   "metadata": {
    "kernel": "SoS"
   },
   "outputs": [],
   "source": [
    "dftest = adfuller(y, autolag = 'AIC')\n",
    "print(\"1. ADF : \",dftest[0])\n",
    "print(\"2. P-Value : \", dftest[1])\n",
    "print(\"3. Num Of Lags : \", dftest[2])\n",
    "print(\"4. Num Of Observations Used For ADF Regression and Critical Values Calculation :\", dftest[3])\n",
    "print(\"5. Critical Values :\")\n",
    "for key, val in dftest[4].items():\n",
    "    print(\"\\t\",key, \": \", val)"
   ]
  },
  {
   "cell_type": "code",
   "execution_count": null,
   "id": "0f49cf75",
   "metadata": {
    "kernel": "SoS"
   },
   "outputs": [],
   "source": [
    "#I will use auto_arima in order to determine ARIMA orders\n",
    "auto_arima(y, m=12).summary()"
   ]
  },
  {
   "cell_type": "code",
   "execution_count": null,
   "id": "74947da7",
   "metadata": {
    "kernel": "SoS"
   },
   "outputs": [],
   "source": [
    "model = sarimax.SARIMAX(y, order=(0,1,0), seasonal_order=(2,0,1,12))\n",
    "model_fit = model.fit()\n",
    "\n",
    "forecast = model_fit.forecast(24)\n",
    "pred = model_fit.predict()[12:]\n",
    "\n",
    "model_fit.summary()"
   ]
  },
  {
   "cell_type": "code",
   "execution_count": null,
   "id": "7c95bee8",
   "metadata": {
    "kernel": "SoS"
   },
   "outputs": [],
   "source": [
    "plt.figure(figsize=(12,8))\n",
    "\n",
    "plt.title('Original and Predicted')\n",
    "plt.plot(y, label='Original')\n",
    "plt.plot(pred, alpha=0.7, label='Predicted')\n",
    "plt.plot(forecast, label='Forecasted Data', alpha=0.5, ls='--')\n",
    "\n",
    "plt.legend()\n",
    "plt.show()\n",
    "# plt.plot(forecast)"
   ]
  },
  {
   "cell_type": "markdown",
   "id": "743b9483",
   "metadata": {},
   "source": [
    "### 1.2.3 Modeling Holiday and Vacation Visits to Wellington (ETS)"
   ]
  },
  {
   "cell_type": "code",
   "execution_count": null,
   "id": "beb4578f",
   "metadata": {
    "kernel": "SoS"
   },
   "outputs": [],
   "source": [
    "#Holiday/VacationWellington ETS\n",
    "y = arrivals['Holiday/VacationWellington']\n",
    "\n",
    "res = seasonal_decompose(y, model='add')\n",
    "\n",
    "# Plot the original data, the trend, the seasonality, and the residuals \n",
    "fig, (ax1,ax2,ax3,ax4) = plt.subplots(4,1, figsize=(10,12), sharex=True);\n",
    "\n",
    "res.observed.plot(ax=ax1, title='Observed')\n",
    "res.seasonal.plot(ax=ax2, title='Seasonality')\n",
    "res.trend.plot(ax=ax3, title='Trend')\n",
    "res.resid.plot(ax=ax4, title='Residual IDs')"
   ]
  },
  {
   "cell_type": "code",
   "execution_count": null,
   "id": "57996d1e",
   "metadata": {
    "kernel": "SoS"
   },
   "outputs": [],
   "source": [
    "ETS = ETSModel(y, error = 'add', trend = 'add', seasonal = 'add', damped_trend = True, seasonal_periods = 12)\n",
    "ETS_fit = ETS.fit()\n",
    "\n",
    "plt.figure(figsize=(12,8))\n",
    "\n",
    "plt.title('Original and Predicted')\n",
    "plt.plot(y, label='Original')\n",
    "plt.plot(ETS_fit.fittedvalues, alpha=0.7, label='Predicted')\n",
    "\n",
    "plt.legend()\n",
    "plt.show()"
   ]
  },
  {
   "cell_type": "code",
   "execution_count": null,
   "id": "aa41ea3a",
   "metadata": {
    "kernel": "SoS"
   },
   "outputs": [],
   "source": [
    "ETS_fit.summary()"
   ]
  },
  {
   "cell_type": "code",
   "execution_count": null,
   "id": "cf322491",
   "metadata": {
    "kernel": "SoS"
   },
   "outputs": [],
   "source": [
    "y_fore = ETS_fit.forecast(36)\n",
    "plt.figure(figsize=(15,8))\n",
    "\n",
    "plt.plot(ETS_fit.fittedvalues, alpha=0.7, label='Predicted')\n",
    "(line1,) = plt.plot(y_fore)"
   ]
  },
  {
   "cell_type": "markdown",
   "id": "9f79e237",
   "metadata": {},
   "source": [
    "### 1.2.4 Modeling Holiday and Vacation Visits to Queenstown (ETS)"
   ]
  },
  {
   "cell_type": "code",
   "execution_count": null,
   "id": "ea07d429",
   "metadata": {
    "kernel": "SoS"
   },
   "outputs": [],
   "source": [
    "#Holiday/VacationQueenstown ETS\n",
    "y = arrivals['Holiday/VacationQueenstown']\n",
    "\n",
    "res = seasonal_decompose(y, model='add')\n",
    "\n",
    "# Plot the original data, the trend, the seasonality, and the residuals \n",
    "fig, (ax1,ax2,ax3,ax4) = plt.subplots(4,1, figsize=(10,12), sharex=True);\n",
    "\n",
    "res.observed.plot(ax=ax1, title='Observed')\n",
    "res.seasonal.plot(ax=ax2, title='Seasonality')\n",
    "res.trend.plot(ax=ax3, title='Trend')\n",
    "res.resid.plot(ax=ax4, title='Residual IDs')"
   ]
  },
  {
   "cell_type": "code",
   "execution_count": null,
   "id": "9f19f97b",
   "metadata": {
    "kernel": "SoS"
   },
   "outputs": [],
   "source": [
    "ETS = ETSModel(y, error = 'add', trend = 'add', seasonal = 'add', damped_trend = True, seasonal_periods = 12)\n",
    "ETS_fit = ETS.fit()\n",
    "\n",
    "plt.figure(figsize=(12,8))\n",
    "\n",
    "plt.title('Original and Predicted')\n",
    "plt.plot(y, label='Original')\n",
    "plt.plot(ETS_fit.fittedvalues, alpha=0.7, label='Predicted')\n",
    "\n",
    "plt.legend()\n",
    "plt.show()"
   ]
  },
  {
   "cell_type": "code",
   "execution_count": null,
   "id": "a3664a06",
   "metadata": {
    "kernel": "SoS"
   },
   "outputs": [],
   "source": [
    "ETS_fit.summary()"
   ]
  },
  {
   "cell_type": "code",
   "execution_count": null,
   "id": "ba8f8825",
   "metadata": {
    "kernel": "SoS"
   },
   "outputs": [],
   "source": [
    "y_fore = ETS_fit.forecast(36)\n",
    "plt.figure(figsize=(15,8))\n",
    "\n",
    "plt.plot(ETS_fit.fittedvalues, alpha=0.7, label='Predicted')\n",
    "(line1,) = plt.plot(y_fore)"
   ]
  },
  {
   "cell_type": "markdown",
   "id": "dfc6e11e",
   "metadata": {},
   "source": [
    "### 1.2.5 Modeling Holiday and Vacation Visits to New Zealand (BATS)"
   ]
  },
  {
   "cell_type": "code",
   "execution_count": null,
   "id": "9836d55a",
   "metadata": {
    "kernel": "darts"
   },
   "outputs": [],
   "source": [
    "\n",
    "#Holiday/VacationTOTAL NEW ZEALAND PORT\n",
    "y = arrivals[['Holiday/VacationTOTAL NEW ZEALAND PORTS']]\n",
    "\n",
    "res = seasonal_decompose(y, model='add')\n",
    "\n",
    "# Plot the original data, the trend, the seasonality, and the residuals \n",
    "fig, (ax1,ax2,ax3,ax4) = plt.subplots(4,1, figsize=(10,12), sharex=True);\n",
    "\n",
    "res.observed.plot(ax=ax1, title='Observed')\n",
    "res.seasonal.plot(ax=ax2, title='Seasonality')\n",
    "res.trend.plot(ax=ax3, title='Trend')\n",
    "res.resid.plot(ax=ax4, title='Residual IDs')"
   ]
  },
  {
   "cell_type": "code",
   "execution_count": null,
   "id": "3c7e81c6",
   "metadata": {
    "kernel": "darts"
   },
   "outputs": [],
   "source": [
    "#Create TimeSeries datatype\n",
    "ts = TimeSeries.from_series(y)\n",
    "\n",
    "#Create the BATS model and fit\n",
    "model = tbats.BATS()\n",
    "model_fit = model.fit(ts)\n",
    "\n",
    "#Predict with the model\n",
    "y_pred = model_fit.predict(36)\n",
    "\n",
    "#Convert back to dataframe so we can use it\n",
    "y_pred_df = y_pred.pd_dataframe()\n",
    "y_pred_df.head()"
   ]
  },
  {
   "cell_type": "code",
   "execution_count": null,
   "id": "5cd72eab",
   "metadata": {
    "kernel": "darts"
   },
   "outputs": [],
   "source": [
    "#Plot onto the time series\n",
    "plt.figure(figsize=(15,8))\n",
    "\n",
    "plt.plot(y, alpha=0.7, label='Predicted')\n",
    "(line1,) = plt.plot(y_pred_df)"
   ]
  },
  {
   "cell_type": "markdown",
   "id": "10816e28",
   "metadata": {},
   "source": [
    "## 1.3 Modeling All Travel to Ports"
   ]
  },
  {
   "cell_type": "markdown",
   "id": "bb4170b3",
   "metadata": {},
   "source": [
    "### 1.3.1 Modeling All Travel to Auckland (ETS)"
   ]
  },
  {
   "cell_type": "code",
   "execution_count": null,
   "id": "c40f879e",
   "metadata": {
    "kernel": "SoS"
   },
   "outputs": [],
   "source": [
    "#TOTAL ALL TRAVEL PURPOSESAuckland ETS\n",
    "y = arrivals['Holiday/VacationQueenstown']\n",
    "\n",
    "res = seasonal_decompose(y, model='add')\n",
    "\n",
    "# Plot the original data, the trend, the seasonality, and the residuals \n",
    "fig, (ax1,ax2,ax3,ax4) = plt.subplots(4,1, figsize=(10,12), sharex=True);\n",
    "\n",
    "res.observed.plot(ax=ax1, title='Observed')\n",
    "res.seasonal.plot(ax=ax2, title='Seasonality')\n",
    "res.trend.plot(ax=ax3, title='Trend')\n",
    "res.resid.plot(ax=ax4, title='Residual IDs')"
   ]
  },
  {
   "cell_type": "code",
   "execution_count": null,
   "id": "d2becd12",
   "metadata": {
    "kernel": "SoS"
   },
   "outputs": [],
   "source": [
    "ETS = ETSModel(y, error = 'add', trend = 'add', seasonal = 'add', damped_trend = True, seasonal_periods = 12)\n",
    "ETS_fit = ETS.fit()\n",
    "\n",
    "plt.figure(figsize=(12,8))\n",
    "\n",
    "plt.title('Original and Predicted')\n",
    "plt.plot(y, label='Original')\n",
    "plt.plot(ETS_fit.fittedvalues, alpha=0.7, label='Predicted')\n",
    "\n",
    "plt.legend()\n",
    "plt.show()"
   ]
  },
  {
   "cell_type": "code",
   "execution_count": null,
   "id": "ed7a29eb",
   "metadata": {
    "kernel": "SoS"
   },
   "outputs": [],
   "source": [
    "ETS_fit.summary()"
   ]
  },
  {
   "cell_type": "code",
   "execution_count": null,
   "id": "4f3dd916",
   "metadata": {
    "kernel": "SoS"
   },
   "outputs": [],
   "source": [
    "y_fore = ETS_fit.forecast(36)\n",
    "plt.figure(figsize=(15,8))\n",
    "\n",
    "plt.plot(ETS_fit.fittedvalues, alpha=0.7, label='Predicted')\n",
    "(line1,) = plt.plot(y_fore)"
   ]
  },
  {
   "cell_type": "markdown",
   "id": "ccea3812",
   "metadata": {},
   "source": [
    "### 1.3.2 Modeling All Travel to Christchurch (ARIMA)"
   ]
  },
  {
   "cell_type": "code",
   "execution_count": null,
   "id": "ee4d4e5a",
   "metadata": {
    "kernel": "SoS"
   },
   "outputs": [],
   "source": [
    "#TOTAL ALL TRAVEL PURPOSESChristchurch arima\n",
    "y = arrivals['TOTAL ALL TRAVEL PURPOSESChristchurch']\n",
    "\n",
    "res = seasonal_decompose(y, model='add')\n",
    "\n",
    "# Plot the original data, the trend, the seasonality, and the residuals \n",
    "fig, (ax1,ax2,ax3,ax4) = plt.subplots(4,1, figsize=(10,12), sharex=True);\n",
    "\n",
    "res.observed.plot(ax=ax1, title='Observed')\n",
    "res.seasonal.plot(ax=ax2, title='Seasonality')\n",
    "res.trend.plot(ax=ax3, title='Trend')\n",
    "res.resid.plot(ax=ax4, title='Residual IDs')"
   ]
  },
  {
   "cell_type": "code",
   "execution_count": null,
   "id": "1201c585",
   "metadata": {
    "kernel": "SoS"
   },
   "outputs": [],
   "source": [
    "fig, ax = plt.subplots(2, figsize=(8,12))\n",
    "\n",
    "# plot the ACF\n",
    "plot_acf(y, ax=ax[0], vlines_kwargs={'ls':'--', 'linewidth': 0.7}, lags=26)\n",
    "\n",
    "# place marker lines on lags 12 and 24 to highlight the seasonality\n",
    "ax[0].axvline(12, color='red', ls='--', alpha=0.8, lw=0.7, label='lag = 12')\n",
    "ax[0].axvline(24, color='orange', ls='--', alpha=1, lw=0.8, label='lag = 24')\n",
    "ax[0].legend()\n",
    "\n",
    "# plot the PACF\n",
    "plot_pacf(y, ax=ax[1], vlines_kwargs={'ls':'--', 'linewidth': 0.7}, lags=26)\n",
    "\n",
    "plt.show()"
   ]
  },
  {
   "cell_type": "code",
   "execution_count": null,
   "id": "777e1a35",
   "metadata": {
    "kernel": "SoS"
   },
   "outputs": [],
   "source": [
    "#I will use auto_arima in order to determine ARIMA orders\n",
    "auto_arima(y, m=12).summary()"
   ]
  },
  {
   "cell_type": "code",
   "execution_count": null,
   "id": "8c738b2b",
   "metadata": {
    "kernel": "SoS"
   },
   "outputs": [],
   "source": [
    "model = sarimax.SARIMAX(y, order=(0,1,2), seasonal_order=(2,0,1,12))\n",
    "model_fit = model.fit()\n",
    "\n",
    "forecast = model_fit.forecast(24)\n",
    "pred = model_fit.predict()[12:]\n",
    "\n",
    "model_fit.summary()"
   ]
  },
  {
   "cell_type": "code",
   "execution_count": null,
   "id": "8f0dd228",
   "metadata": {
    "kernel": "SoS"
   },
   "outputs": [],
   "source": [
    "plt.figure(figsize=(12,8))\n",
    "\n",
    "plt.title('Original and Predicted')\n",
    "plt.plot(y, label='Original')\n",
    "plt.plot(pred, alpha=0.7, label='Predicted')\n",
    "plt.plot(forecast, label='Forecasted Data', alpha=0.5, ls='--')\n",
    "\n",
    "plt.legend()\n",
    "plt.show()\n",
    "# plt.plot(forecast)"
   ]
  },
  {
   "cell_type": "markdown",
   "id": "8061ded7",
   "metadata": {},
   "source": [
    "### 1.3.3 Modeling All Travel to Wellington (ETS)"
   ]
  },
  {
   "cell_type": "code",
   "execution_count": null,
   "id": "c42bfbdf",
   "metadata": {
    "kernel": "SoS"
   },
   "outputs": [],
   "source": [
    "#TOTAL ALL TRAVEL PURPOSESWellington ETS\n",
    "y = arrivals['TOTAL ALL TRAVEL PURPOSESWellington']\n",
    "\n",
    "res = seasonal_decompose(y, model='add')\n",
    "\n",
    "# Plot the original data, the trend, the seasonality, and the residuals \n",
    "fig, (ax1,ax2,ax3,ax4) = plt.subplots(4,1, figsize=(10,12), sharex=True);\n",
    "\n",
    "res.observed.plot(ax=ax1, title='Observed')\n",
    "res.seasonal.plot(ax=ax2, title='Seasonality')\n",
    "res.trend.plot(ax=ax3, title='Trend')\n",
    "res.resid.plot(ax=ax4, title='Residual IDs')"
   ]
  },
  {
   "cell_type": "code",
   "execution_count": null,
   "id": "4ea66fcb",
   "metadata": {
    "kernel": "SoS"
   },
   "outputs": [],
   "source": [
    "ETS = ETSModel(y, error = 'add', trend = 'add', seasonal = 'add', damped_trend = True, seasonal_periods = 12)\n",
    "ETS_fit = ETS.fit()\n",
    "\n",
    "plt.figure(figsize=(12,8))\n",
    "\n",
    "plt.title('Original and Predicted')\n",
    "plt.plot(y, label='Original')\n",
    "plt.plot(ETS_fit.fittedvalues, alpha=0.7, label='Predicted')\n",
    "\n",
    "plt.legend()\n",
    "\n",
    "plt.show()"
   ]
  },
  {
   "cell_type": "code",
   "execution_count": null,
   "id": "ffb55a5a",
   "metadata": {
    "kernel": "SoS"
   },
   "outputs": [],
   "source": [
    "ETS_fit.summary()"
   ]
  },
  {
   "cell_type": "code",
   "execution_count": null,
   "id": "dd0dac2a",
   "metadata": {
    "kernel": "SoS"
   },
   "outputs": [],
   "source": [
    "y_fore = ETS_fit.forecast(36)\n",
    "plt.figure(figsize=(15,8))\n",
    "\n",
    "plt.plot(ETS_fit.fittedvalues, alpha=0.7, label='Predicted')\n",
    "(line1,) = plt.plot(y_fore)"
   ]
  },
  {
   "cell_type": "markdown",
   "id": "7ada27ef",
   "metadata": {},
   "source": [
    "### 1.3.4 Modeling All Travel to Queenstown (Auto_ARIMA)"
   ]
  },
  {
   "cell_type": "code",
   "execution_count": null,
   "id": "c2cf6ba1",
   "metadata": {
    "kernel": "SoS"
   },
   "outputs": [],
   "source": [
    "#TOTAL ALL TRAVEL PURPOSESQueenstown auto_arima\n",
    "y = arrivals['TOTAL ALL TRAVEL PURPOSESQueenstown']\n",
    "\n",
    "res = seasonal_decompose(y, model='add')\n",
    "\n",
    "# Plot the original data, the trend, the seasonality, and the residuals \n",
    "fig, (ax1,ax2,ax3,ax4) = plt.subplots(4,1, figsize=(10,12), sharex=True);\n",
    "\n",
    "res.observed.plot(ax=ax1, title='Observed')\n",
    "res.seasonal.plot(ax=ax2, title='Seasonality')\n",
    "res.trend.plot(ax=ax3, title='Trend')\n",
    "res.resid.plot(ax=ax4, title='Residual IDs')"
   ]
  },
  {
   "cell_type": "code",
   "execution_count": null,
   "id": "6a5b08ac",
   "metadata": {
    "kernel": "SoS"
   },
   "outputs": [],
   "source": [
    "fig, ax = plt.subplots(2, figsize=(8,12))\n",
    "\n",
    "# plot the ACF\n",
    "plot_acf(y, ax=ax[0], vlines_kwargs={'ls':'--', 'linewidth': 0.7}, lags=26)\n",
    "\n",
    "# place marker lines on lags 12 and 24 to highlight the seasonality\n",
    "ax[0].axvline(12, color='red', ls='--', alpha=0.8, lw=0.7, label='lag = 12')\n",
    "ax[0].axvline(24, color='orange', ls='--', alpha=1, lw=0.8, label='lag = 24')\n",
    "ax[0].legend()\n",
    "\n",
    "# plot the PACF\n",
    "plot_pacf(y, ax=ax[1], vlines_kwargs={'ls':'--', 'linewidth': 0.7}, lags=26)\n",
    "\n",
    "plt.show()"
   ]
  },
  {
   "cell_type": "code",
   "execution_count": null,
   "id": "80b464d2",
   "metadata": {
    "kernel": "SoS"
   },
   "outputs": [],
   "source": [
    "#I will use auto_arima in order to determine ARIMA orders\n",
    "auto_arima(y, m=12, method = 'cg', information_criterion = 'bic', error_action = 'ignore').summary()"
   ]
  },
  {
   "cell_type": "code",
   "execution_count": null,
   "id": "307ea545",
   "metadata": {
    "kernel": "SoS"
   },
   "outputs": [],
   "source": [
    "model = sarimax.SARIMAX(y, order=(2,1,0), seasonal_order=(2,0,1,12))\n",
    "model_fit = model.fit()\n",
    "\n",
    "forecast = model_fit.forecast(24)\n",
    "pred = model_fit.predict()[12:]\n",
    "\n",
    "model_fit.summary()"
   ]
  },
  {
   "cell_type": "code",
   "execution_count": null,
   "id": "c6328587",
   "metadata": {
    "kernel": "SoS"
   },
   "outputs": [],
   "source": [
    "plt.figure(figsize=(12,8))\n",
    "\n",
    "plt.title('Original and Predicted')\n",
    "plt.plot(y, label='Original')\n",
    "plt.plot(pred, alpha=0.7, label='Predicted')\n",
    "plt.plot(forecast, label='Forecasted Data', alpha=0.5, ls='--')\n",
    "\n",
    "plt.legend()\n",
    "plt.show()\n",
    "# plt.plot(forecast)"
   ]
  },
  {
   "cell_type": "markdown",
   "id": "fadbdc9a",
   "metadata": {},
   "source": [
    "### 1.3.5 Modeling All Travel to New Zealand (Exp. Smoothing)"
   ]
  },
  {
   "cell_type": "code",
   "execution_count": null,
   "id": "eec9ebe8",
   "metadata": {
    "kernel": "SoS"
   },
   "outputs": [],
   "source": [
    "#TOTAL ALL TRAVEL PURPOSESTOTAL NEW ZEALAND PORTS\n",
    "y = arrivals['TOTAL ALL TRAVEL PURPOSESTOTAL NEW ZEALAND PORTS']\n",
    "\n",
    "res = seasonal_decompose(y, model='mul')\n",
    "\n",
    "# Plot the original data, the trend, the seasonality, and the residuals \n",
    "fig, (ax1,ax2,ax3,ax4) = plt.subplots(4,1, figsize=(10,12), sharex=True);\n",
    "\n",
    "res.observed.plot(ax=ax1, title='Observed')\n",
    "res.seasonal.plot(ax=ax2, title='Seasonality')\n",
    "res.trend.plot(ax=ax3, title='Trend')\n",
    "res.resid.plot(ax=ax4, title='Residual IDs')"
   ]
  },
  {
   "cell_type": "code",
   "execution_count": null,
   "id": "b63c6d6a",
   "metadata": {
    "kernel": "SoS"
   },
   "outputs": [],
   "source": [
    "exp = ExponentialSmoothing(y, trend = 'mul', seasonal = 'mul', damped_trend = True)\n",
    "exp_fit = exp.fit(method = 'ls')\n",
    "\n",
    "plt.figure(figsize=(12,8))\n",
    "\n",
    "plt.title('Original and Predicted')\n",
    "plt.plot(y, label='Original')\n",
    "plt.plot(exp_fit.fittedvalues, alpha=0.7, label='Predicted')\n",
    "\n",
    "plt.legend()\n",
    "plt.show()"
   ]
  },
  {
   "cell_type": "code",
   "execution_count": null,
   "id": "9c7e395f",
   "metadata": {
    "kernel": "SoS"
   },
   "outputs": [],
   "source": [
    "exp_fit.summary()"
   ]
  },
  {
   "cell_type": "code",
   "execution_count": null,
   "id": "b21a95e8",
   "metadata": {},
   "outputs": [],
   "source": [
    "y_fore = exp_fit.forecast(36)\n",
    "plt.figure(figsize=(15,8))\n",
    "\n",
    "plt.plot(exp_fit.fittedvalues, alpha=0.7, label='Predicted')\n",
    "(line1,) = plt.plot(y_fore)"
   ]
  },
  {
   "cell_type": "markdown",
   "id": "90cb4493",
   "metadata": {
    "kernel": "SoS"
   },
   "source": [
    "# 2.0 Modeling Accomodation Data"
   ]
  },
  {
   "cell_type": "code",
   "execution_count": 3,
   "id": "ebad121f",
   "metadata": {
    "kernel": "SoS"
   },
   "outputs": [
    {
     "data": {
      "text/html": [
       "<div>\n",
       "<style scoped>\n",
       "    .dataframe tbody tr th:only-of-type {\n",
       "        vertical-align: middle;\n",
       "    }\n",
       "\n",
       "    .dataframe tbody tr th {\n",
       "        vertical-align: top;\n",
       "    }\n",
       "\n",
       "    .dataframe thead th {\n",
       "        text-align: right;\n",
       "    }\n",
       "</style>\n",
       "<table border=\"1\" class=\"dataframe\">\n",
       "  <thead>\n",
       "    <tr style=\"text-align: right;\">\n",
       "      <th></th>\n",
       "      <th>TotalNorthlandCapacity</th>\n",
       "      <th>TotalNorthlandOccupancy</th>\n",
       "      <th>TotalAucklandCapacity</th>\n",
       "      <th>TotalAucklandOccupancy</th>\n",
       "      <th>TotalCoromandelCapacity</th>\n",
       "      <th>TotalCoromandelOccupancy</th>\n",
       "      <th>TotalWaikatoCapacity</th>\n",
       "      <th>TotalWaikatoOccupancy</th>\n",
       "      <th>TotalBay of PlentyCapacity</th>\n",
       "      <th>TotalBay of PlentyOccupancy</th>\n",
       "      <th>...</th>\n",
       "      <th>Holiday parksDunedinCapacity</th>\n",
       "      <th>Holiday parksDunedinOccupancy</th>\n",
       "      <th>Holiday parksCluthaCapacity</th>\n",
       "      <th>Holiday parksCluthaOccupancy</th>\n",
       "      <th>Holiday parksFiordlandCapacity</th>\n",
       "      <th>Holiday parksFiordlandOccupancy</th>\n",
       "      <th>Holiday parksSouthlandCapacity</th>\n",
       "      <th>Holiday parksSouthlandOccupancy</th>\n",
       "      <th>Holiday parksTotal New ZealandCapacity</th>\n",
       "      <th>Holiday parksTotal New ZealandOccupancy</th>\n",
       "    </tr>\n",
       "    <tr>\n",
       "      <th>Date</th>\n",
       "      <th></th>\n",
       "      <th></th>\n",
       "      <th></th>\n",
       "      <th></th>\n",
       "      <th></th>\n",
       "      <th></th>\n",
       "      <th></th>\n",
       "      <th></th>\n",
       "      <th></th>\n",
       "      <th></th>\n",
       "      <th></th>\n",
       "      <th></th>\n",
       "      <th></th>\n",
       "      <th></th>\n",
       "      <th></th>\n",
       "      <th></th>\n",
       "      <th></th>\n",
       "      <th></th>\n",
       "      <th></th>\n",
       "      <th></th>\n",
       "      <th></th>\n",
       "    </tr>\n",
       "  </thead>\n",
       "  <tbody>\n",
       "    <tr>\n",
       "      <th>2001-01-01</th>\n",
       "      <td>322710</td>\n",
       "      <td>120769</td>\n",
       "      <td>496093</td>\n",
       "      <td>280342</td>\n",
       "      <td>131316</td>\n",
       "      <td>66529</td>\n",
       "      <td>134261</td>\n",
       "      <td>45190</td>\n",
       "      <td>137082</td>\n",
       "      <td>65859</td>\n",
       "      <td>...</td>\n",
       "      <td>18321</td>\n",
       "      <td>6277</td>\n",
       "      <td>8804</td>\n",
       "      <td>2534</td>\n",
       "      <td>12059</td>\n",
       "      <td>..</td>\n",
       "      <td>29853</td>\n",
       "      <td>..</td>\n",
       "      <td>1713649</td>\n",
       "      <td>557313</td>\n",
       "    </tr>\n",
       "    <tr>\n",
       "      <th>2001-02-01</th>\n",
       "      <td>291508</td>\n",
       "      <td>84755</td>\n",
       "      <td>444388</td>\n",
       "      <td>267818</td>\n",
       "      <td>118944</td>\n",
       "      <td>33820</td>\n",
       "      <td>121772</td>\n",
       "      <td>40636</td>\n",
       "      <td>122780</td>\n",
       "      <td>38075</td>\n",
       "      <td>...</td>\n",
       "      <td>16548</td>\n",
       "      <td>4722</td>\n",
       "      <td>7952</td>\n",
       "      <td>1748</td>\n",
       "      <td>10892</td>\n",
       "      <td>..</td>\n",
       "      <td>26964</td>\n",
       "      <td>..</td>\n",
       "      <td>1541876</td>\n",
       "      <td>276204</td>\n",
       "    </tr>\n",
       "    <tr>\n",
       "      <th>2001-03-01</th>\n",
       "      <td>323392</td>\n",
       "      <td>79564</td>\n",
       "      <td>495163</td>\n",
       "      <td>282679</td>\n",
       "      <td>129580</td>\n",
       "      <td>29965</td>\n",
       "      <td>134509</td>\n",
       "      <td>49575</td>\n",
       "      <td>136059</td>\n",
       "      <td>36555</td>\n",
       "      <td>...</td>\n",
       "      <td>18321</td>\n",
       "      <td>4758</td>\n",
       "      <td>8804</td>\n",
       "      <td>1399</td>\n",
       "      <td>12059</td>\n",
       "      <td>..</td>\n",
       "      <td>29853</td>\n",
       "      <td>..</td>\n",
       "      <td>1698583</td>\n",
       "      <td>239677</td>\n",
       "    </tr>\n",
       "    <tr>\n",
       "      <th>2001-04-01</th>\n",
       "      <td>312960</td>\n",
       "      <td>64383</td>\n",
       "      <td>480120</td>\n",
       "      <td>226099</td>\n",
       "      <td>125820</td>\n",
       "      <td>22430</td>\n",
       "      <td>130380</td>\n",
       "      <td>39024</td>\n",
       "      <td>131670</td>\n",
       "      <td>31781</td>\n",
       "      <td>...</td>\n",
       "      <td>17730</td>\n",
       "      <td>3578</td>\n",
       "      <td>8520</td>\n",
       "      <td>1138</td>\n",
       "      <td>11670</td>\n",
       "      <td>..</td>\n",
       "      <td>28890</td>\n",
       "      <td>3825</td>\n",
       "      <td>1621260</td>\n",
       "      <td>199816</td>\n",
       "    </tr>\n",
       "    <tr>\n",
       "      <th>2001-05-01</th>\n",
       "      <td>313720</td>\n",
       "      <td>42146</td>\n",
       "      <td>501115</td>\n",
       "      <td>219150</td>\n",
       "      <td>128929</td>\n",
       "      <td>11329</td>\n",
       "      <td>130820</td>\n",
       "      <td>35345</td>\n",
       "      <td>136059</td>\n",
       "      <td>24574</td>\n",
       "      <td>...</td>\n",
       "      <td>18321</td>\n",
       "      <td>2194</td>\n",
       "      <td>7223</td>\n",
       "      <td>698</td>\n",
       "      <td>12059</td>\n",
       "      <td>..</td>\n",
       "      <td>25947</td>\n",
       "      <td>..</td>\n",
       "      <td>1537042</td>\n",
       "      <td>97871</td>\n",
       "    </tr>\n",
       "  </tbody>\n",
       "</table>\n",
       "<p>5 rows × 330 columns</p>\n",
       "</div>"
      ],
      "text/plain": [
       "            TotalNorthlandCapacity  TotalNorthlandOccupancy  \\\n",
       "Date                                                          \n",
       "2001-01-01                  322710                   120769   \n",
       "2001-02-01                  291508                    84755   \n",
       "2001-03-01                  323392                    79564   \n",
       "2001-04-01                  312960                    64383   \n",
       "2001-05-01                  313720                    42146   \n",
       "\n",
       "            TotalAucklandCapacity  TotalAucklandOccupancy  \\\n",
       "Date                                                        \n",
       "2001-01-01                 496093                  280342   \n",
       "2001-02-01                 444388                  267818   \n",
       "2001-03-01                 495163                  282679   \n",
       "2001-04-01                 480120                  226099   \n",
       "2001-05-01                 501115                  219150   \n",
       "\n",
       "            TotalCoromandelCapacity  TotalCoromandelOccupancy  \\\n",
       "Date                                                            \n",
       "2001-01-01                   131316                     66529   \n",
       "2001-02-01                   118944                     33820   \n",
       "2001-03-01                   129580                     29965   \n",
       "2001-04-01                   125820                     22430   \n",
       "2001-05-01                   128929                     11329   \n",
       "\n",
       "            TotalWaikatoCapacity  TotalWaikatoOccupancy  \\\n",
       "Date                                                      \n",
       "2001-01-01                134261                  45190   \n",
       "2001-02-01                121772                  40636   \n",
       "2001-03-01                134509                  49575   \n",
       "2001-04-01                130380                  39024   \n",
       "2001-05-01                130820                  35345   \n",
       "\n",
       "            TotalBay of PlentyCapacity  TotalBay of PlentyOccupancy  ...  \\\n",
       "Date                                                                 ...   \n",
       "2001-01-01                      137082                        65859  ...   \n",
       "2001-02-01                      122780                        38075  ...   \n",
       "2001-03-01                      136059                        36555  ...   \n",
       "2001-04-01                      131670                        31781  ...   \n",
       "2001-05-01                      136059                        24574  ...   \n",
       "\n",
       "            Holiday parksDunedinCapacity  Holiday parksDunedinOccupancy  \\\n",
       "Date                                                                      \n",
       "2001-01-01                         18321                           6277   \n",
       "2001-02-01                         16548                           4722   \n",
       "2001-03-01                         18321                           4758   \n",
       "2001-04-01                         17730                           3578   \n",
       "2001-05-01                         18321                           2194   \n",
       "\n",
       "            Holiday parksCluthaCapacity  Holiday parksCluthaOccupancy  \\\n",
       "Date                                                                    \n",
       "2001-01-01                         8804                          2534   \n",
       "2001-02-01                         7952                          1748   \n",
       "2001-03-01                         8804                          1399   \n",
       "2001-04-01                         8520                          1138   \n",
       "2001-05-01                         7223                           698   \n",
       "\n",
       "            Holiday parksFiordlandCapacity  Holiday parksFiordlandOccupancy  \\\n",
       "Date                                                                          \n",
       "2001-01-01                           12059                               ..   \n",
       "2001-02-01                           10892                               ..   \n",
       "2001-03-01                           12059                               ..   \n",
       "2001-04-01                           11670                               ..   \n",
       "2001-05-01                           12059                               ..   \n",
       "\n",
       "            Holiday parksSouthlandCapacity  Holiday parksSouthlandOccupancy  \\\n",
       "Date                                                                          \n",
       "2001-01-01                           29853                               ..   \n",
       "2001-02-01                           26964                               ..   \n",
       "2001-03-01                           29853                               ..   \n",
       "2001-04-01                           28890                             3825   \n",
       "2001-05-01                           25947                               ..   \n",
       "\n",
       "            Holiday parksTotal New ZealandCapacity  \\\n",
       "Date                                                 \n",
       "2001-01-01                                 1713649   \n",
       "2001-02-01                                 1541876   \n",
       "2001-03-01                                 1698583   \n",
       "2001-04-01                                 1621260   \n",
       "2001-05-01                                 1537042   \n",
       "\n",
       "            Holiday parksTotal New ZealandOccupancy  \n",
       "Date                                                 \n",
       "2001-01-01                                   557313  \n",
       "2001-02-01                                   276204  \n",
       "2001-03-01                                   239677  \n",
       "2001-04-01                                   199816  \n",
       "2001-05-01                                    97871  \n",
       "\n",
       "[5 rows x 330 columns]"
      ]
     },
     "execution_count": 3,
     "metadata": {},
     "output_type": "execute_result"
    }
   ],
   "source": [
    "accomodations = pd.read_csv('../NZ Data/Accomodation Data Cleaned.csv', parse_dates = True, \\\n",
    "                       index_col = 0)\n",
    "accomodations.head()"
   ]
  },
  {
   "cell_type": "code",
   "execution_count": null,
   "id": "28cdfbf2",
   "metadata": {
    "kernel": "SoS"
   },
   "outputs": [],
   "source": [
    "accomodations_model_list = pd.read_csv('../NZ Data/accomodations_model_results.csv')\n",
    "accomodations_model_list"
   ]
  },
  {
   "cell_type": "markdown",
   "id": "bda1fca4",
   "metadata": {},
   "source": [
    "## 2.1 All Accomodation Occupancy Models"
   ]
  },
  {
   "cell_type": "markdown",
   "id": "31ded940",
   "metadata": {},
   "source": [
    "### 2.1.1 Modeling Total Occupancy in Auckland (Random Forest)"
   ]
  },
  {
   "cell_type": "code",
   "execution_count": null,
   "id": "277e4868",
   "metadata": {
    "kernel": "SoS"
   },
   "outputs": [],
   "source": [
    "#TotalAucklandOccupancy random forest w/ cond deseasonalize and detrend\n",
    "y = accomodations[['TotalAucklandOccupancy']]\n",
    "\n",
    "res = seasonal_decompose(y, model='add')\n",
    "\n",
    "# Plot the original data, the trend, the seasonality, and the residuals \n",
    "fig, (ax1,ax2,ax3,ax4) = plt.subplots(4,1, figsize=(10,12), sharex=True);\n",
    "\n",
    "res.observed.plot(ax=ax1, title='Observed')\n",
    "res.seasonal.plot(ax=ax2, title='Seasonality')\n",
    "res.trend.plot(ax=ax3, title='Trend')\n",
    "res.resid.plot(ax=ax4, title='Residual IDs')"
   ]
  },
  {
   "cell_type": "code",
   "execution_count": null,
   "id": "de6d8637",
   "metadata": {},
   "outputs": [],
   "source": [
    "#Code from machinelearningmastery, Jason Brownlee\n",
    "# transform a time series dataset into a supervised learning dataset\n",
    "\n",
    "def series_to_supervised(data, n_in=1, n_out=1, dropnan=True):\n",
    "\tn_vars = 1 if type(data) is list else data.shape[1]\n",
    "\tdf = pd.DataFrame(data)\n",
    "\tcols = list()\n",
    "\t# input sequence (t-n, ... t-1)\n",
    "\tfor i in range(n_in, 0, -1):\n",
    "\t\tcols.append(df.shift(i))\n",
    "\t# forecast sequence (t, t+1, ... t+n)\n",
    "\tfor i in range(0, n_out):\n",
    "\t\tcols.append(df.shift(-i))\n",
    "\t# put it all together\n",
    "\tagg = pd.concat(cols, axis=1)\n",
    "\t# drop rows with NaN values\n",
    "\tif dropnan:\n",
    "\t\tagg.dropna(inplace=True)\n",
    "\treturn agg.values\n",
    " \n",
    "# split a univariate dataset into train/test sets\n",
    "def train_test_split(data, n_test):\n",
    "\treturn data[:-n_test, :], data[-n_test:, :]\n",
    " \n",
    "# fit an random forest model and make a one step prediction\n",
    "def random_forest_forecast(train, testX):\n",
    "\t# transform list into array\n",
    "\ttrain = np.asarray(train)\n",
    "\t# split into input and output columns\n",
    "\ttrainX, trainy = train[:, :-1], train[:, -1]\n",
    "\t# fit model\n",
    "\tmodel = RandomForestRegressor(n_estimators=1000)\n",
    "\tmodel.fit(trainX, trainy)\n",
    "\t# make a one-step prediction\n",
    "\tyhat = model.predict([testX])\n",
    "\treturn yhat[0]\n",
    " \n",
    "# walk-forward validation for univariate data\n",
    "def walk_forward_validation(data, n_test):\n",
    "\tpredictions = list()\n",
    "\t# split dataset\n",
    "\ttrain, test = train_test_split(data, n_test)\n",
    "\t# seed history with training dataset\n",
    "\thistory = [x for x in train]\n",
    "\t# step over each time-step in the test set\n",
    "\tfor i in range(len(test)):\n",
    "\t\t# split test row into input and output columns\n",
    "\t\ttestX, testy = test[i, :-1], test[i, -1]\n",
    "\t\t# fit model on history and make a prediction\n",
    "\t\tyhat = random_forest_forecast(history, testX)\n",
    "\t\t# store forecast in list of predictions\n",
    "\t\tpredictions.append(yhat)\n",
    "\t\t# add actual observation to history for the next loop\n",
    "\t\thistory.append(test[i])\n",
    "\t\t# summarize progress\n",
    "\t\t#print('>expected=%.1f, predicted=%.1f' % (testy, yhat))\n",
    "\t# estimate prediction error\n",
    "\terror = mean_absolute_error(test[:, -1], predictions)\n",
    "\treturn error, test[:, -1], predictions\n",
    "\n",
    "\n",
    "#Our function for multistep forecast\n",
    "def multistep_forecast(steps, y_list):\n",
    "    y_pred = y_list.copy()\n",
    "    \n",
    "    for s in range(steps):\n",
    "        train = series_to_supervised(y_pred, n_in=steps)\n",
    "            # split into input and output columns\n",
    "        trainX, trainy = train[:, :-1], train[:, -1]\n",
    "            # fit model\n",
    "        model = RandomForestRegressor(n_estimators=1000)\n",
    "        model.fit(trainX, trainy)\n",
    "        row = y_pred[-steps:]\n",
    "        yhat = model.predict(np.asarray([row]))\n",
    "        y_pred.append(yhat[0])\n",
    "    return y_pred"
   ]
  },
  {
   "cell_type": "code",
   "execution_count": null,
   "id": "33212180",
   "metadata": {},
   "outputs": [],
   "source": [
    "# Convert data to a list\n",
    "y_list = list(y['TotalAucklandOccupancy'])\n",
    "len(y_list)"
   ]
  },
  {
   "cell_type": "code",
   "execution_count": null,
   "id": "5ac8b8b8",
   "metadata": {},
   "outputs": [],
   "source": [
    "# transform the time series data into supervised learning\n",
    "data = series_to_supervised(y_list, n_in=50)\n",
    "# evaluate\n",
    "mae, y, yhat = walk_forward_validation(data, n_test=50)\n",
    "#print('MAE: %.3f' % mae)\n",
    "# plot expected vs predicted\n",
    "plt.plot(y, label='Expected')\n",
    "plt.plot(yhat, label='Predicted')\n",
    "plt.legend()\n",
    "plt.show()"
   ]
  },
  {
   "cell_type": "code",
   "execution_count": null,
   "id": "1849ed7b",
   "metadata": {},
   "outputs": [],
   "source": [
    "# transform the time series data into supervised learning\n",
    "n = 50\n",
    "y_pred = multistep_forecast(n, y_list)"
   ]
  },
  {
   "cell_type": "code",
   "execution_count": null,
   "id": "b9b6e7a1",
   "metadata": {},
   "outputs": [],
   "source": [
    "len(y_pred)"
   ]
  },
  {
   "cell_type": "code",
   "execution_count": null,
   "id": "fa57dd2b",
   "metadata": {},
   "outputs": [],
   "source": [
    "pred_index = range(len(y_pred) - n, len(y_pred))"
   ]
  },
  {
   "cell_type": "code",
   "execution_count": null,
   "id": "9a1e3284",
   "metadata": {},
   "outputs": [],
   "source": [
    "plt.figure(figsize = (12,10))\n",
    "plt.plot(y_list, label='Expected')\n",
    "(line1,) = plt.plot(pred_index, y_pred[-n:], label='Predicted')\n",
    "plt.legend()\n",
    "plt.show()"
   ]
  },
  {
   "cell_type": "code",
   "execution_count": null,
   "id": "6a7b5ffe",
   "metadata": {},
   "outputs": [],
   "source": [
    "#Use DARTS as our comparison\n",
    "\n",
    "from darts.models.forecasting.random_forest import RandomForest"
   ]
  },
  {
   "cell_type": "code",
   "execution_count": null,
   "id": "db3ed612",
   "metadata": {},
   "outputs": [],
   "source": [
    "y = accomodations[['TotalAucklandOccupancy']]\n",
    "rf = RandomForest(lags = 24)\n",
    "#Convert to timeseries\n",
    "y_ts = TimeSeries.from_dataframe(y)\n",
    "rf.fit(y_ts)\n",
    "\n",
    "y_pred = rf.predict(24)\n",
    "y_pred_df = TimeSeries.pd_dataframe(y_pred)"
   ]
  },
  {
   "cell_type": "code",
   "execution_count": null,
   "id": "c5c287db",
   "metadata": {},
   "outputs": [],
   "source": [
    "plt.figure(figsize=(15,8))\n",
    "\n",
    "plt.plot(y, alpha=0.7, label='Predicted')\n",
    "(line1,) = plt.plot(y_pred_df)"
   ]
  },
  {
   "cell_type": "code",
   "execution_count": null,
   "id": "4a930ac4",
   "metadata": {},
   "outputs": [],
   "source": [
    "y = accomodations['TotalAucklandOccupancy']\n",
    "fig, ax = plt.subplots(2, figsize=(8,12))\n",
    "\n",
    "# plot the ACF\n",
    "plot_acf(y, ax=ax[0], vlines_kwargs={'ls':'--', 'linewidth': 0.7}, lags=26)\n",
    "\n",
    "# place marker lines on lags 12 and 24 to highlight the seasonality\n",
    "ax[0].axvline(12, color='red', ls='--', alpha=0.8, lw=0.7, label='lag = 12')\n",
    "ax[0].axvline(24, color='orange', ls='--', alpha=1, lw=0.8, label='lag = 24')\n",
    "ax[0].legend()\n",
    "\n",
    "# plot the PACF\n",
    "plot_pacf(y, ax=ax[1], vlines_kwargs={'ls':'--', 'linewidth': 0.7}, lags=26)\n",
    "\n",
    "plt.show()"
   ]
  },
  {
   "cell_type": "code",
   "execution_count": null,
   "id": "1ee0b31c",
   "metadata": {},
   "outputs": [],
   "source": [
    "auto_arima(y, m=12, method = 'cg', information_criterion = 'bic', error_action = 'ignore').summary()"
   ]
  },
  {
   "cell_type": "code",
   "execution_count": null,
   "id": "a734a088",
   "metadata": {},
   "outputs": [],
   "source": [
    "model = sarimax.SARIMAX(y, order=(1,1,2), seasonal_order=(1,0,0,12))\n",
    "model_fit = model.fit()\n",
    "\n",
    "forecast = model_fit.forecast(24)\n",
    "pred = model_fit.predict()[12:]"
   ]
  },
  {
   "cell_type": "code",
   "execution_count": null,
   "id": "4764b9bf",
   "metadata": {},
   "outputs": [],
   "source": [
    "plt.figure(figsize=(12,8))\n",
    "\n",
    "plt.title('Original and Predicted')\n",
    "plt.plot(y, label='Original')\n",
    "plt.plot(pred, alpha=0.7, label='Predicted')\n",
    "plt.plot(forecast, label='Forecasted Data', alpha=0.5, ls='--')\n",
    "\n",
    "plt.legend()\n",
    "plt.show()\n",
    "# plt.plot(forecast)"
   ]
  },
  {
   "cell_type": "code",
   "execution_count": null,
   "id": "967cfb69",
   "metadata": {},
   "outputs": [],
   "source": [
    "y = accomodations['TotalAucklandOccupancy']\n",
    "y = y.astype('float64')\n",
    "\n",
    "ETS = ETSModel(y, error = 'add', trend = 'add', seasonal = 'add', seasonal_periods = 12)\n",
    "ETS_fit = ETS.fit()\n",
    "\n",
    "plt.figure(figsize=(12,8))\n",
    "\n",
    "plt.title('Original and Predicted')\n",
    "plt.plot(y, label='Original')\n",
    "plt.plot(ETS_fit.fittedvalues, alpha=0.7, label='Predicted')\n",
    "\n",
    "plt.legend()\n",
    "\n",
    "plt.show()"
   ]
  },
  {
   "cell_type": "code",
   "execution_count": null,
   "id": "e561b65c",
   "metadata": {},
   "outputs": [],
   "source": [
    "ETS_fit.summary()"
   ]
  },
  {
   "cell_type": "code",
   "execution_count": null,
   "id": "0c838d84",
   "metadata": {},
   "outputs": [],
   "source": [
    "y_fore = ETS_fit.forecast(36)\n",
    "plt.figure(figsize=(15,8))\n",
    "\n",
    "plt.plot(ETS_fit.fittedvalues, alpha=0.7, label='Predicted')\n",
    "(line1,) = plt.plot(y_fore)"
   ]
  },
  {
   "cell_type": "markdown",
   "id": "3685a302",
   "metadata": {},
   "source": [
    "### 2.1.2 Modeling Total Occupancy in Canterbury (ETS)"
   ]
  },
  {
   "cell_type": "code",
   "execution_count": null,
   "id": "7daac94e",
   "metadata": {
    "kernel": "SoS"
   },
   "outputs": [],
   "source": [
    "#TotalCanterbury ETS\n",
    "y = accomodations['TotalCanterburyOccupancy']\n",
    "y = y.astype('float64')\n",
    "\n",
    "\n",
    "res = seasonal_decompose(y, model='add')\n",
    "\n",
    "# Plot the original data, the trend, the seasonality, and the residuals \n",
    "fig, (ax1,ax2,ax3,ax4) = plt.subplots(4,1, figsize=(10,12), sharex=True);\n",
    "\n",
    "res.observed.plot(ax=ax1, title='Observed')\n",
    "res.seasonal.plot(ax=ax2, title='Seasonality')\n",
    "res.trend.plot(ax=ax3, title='Trend')\n",
    "res.resid.plot(ax=ax4, title='Residual IDs')"
   ]
  },
  {
   "cell_type": "code",
   "execution_count": null,
   "id": "8475ae98",
   "metadata": {},
   "outputs": [],
   "source": [
    "ETS = ETSModel(y, error = 'add', trend = 'add', seasonal = 'add', seasonal_periods = 12)\n",
    "ETS_fit = ETS.fit()\n",
    "\n",
    "plt.figure(figsize=(12,8))\n",
    "\n",
    "plt.title('Original and Predicted')\n",
    "plt.plot(y, label='Original')\n",
    "plt.plot(ETS_fit.fittedvalues, alpha=0.7, label='Predicted')\n",
    "y = y.astype('float64')\n",
    "\n",
    "plt.legend()\n",
    "\n",
    "plt.show()"
   ]
  },
  {
   "cell_type": "code",
   "execution_count": null,
   "id": "57f6964d",
   "metadata": {},
   "outputs": [],
   "source": [
    "ETS_fit.summary()"
   ]
  },
  {
   "cell_type": "code",
   "execution_count": null,
   "id": "5289352a",
   "metadata": {},
   "outputs": [],
   "source": [
    "y_fore = ETS_fit.forecast(36)\n",
    "plt.figure(figsize=(15,8))\n",
    "\n",
    "plt.plot(ETS_fit.fittedvalues, alpha=0.7, label='Predicted')\n",
    "(line1,) = plt.plot(y_fore)"
   ]
  },
  {
   "cell_type": "markdown",
   "id": "590a1727",
   "metadata": {},
   "source": [
    "### 2.1.3 Modeling Total Occupancy in Wellington (FB Prophet)"
   ]
  },
  {
   "cell_type": "code",
   "execution_count": 4,
   "id": "f14c144d",
   "metadata": {
    "kernel": "SoS"
   },
   "outputs": [
    {
     "data": {
      "image/png": "[encoded data removed]",
      "text/plain": [
       "<Figure size 720x864 with 4 Axes>"
      ]
     },
     "metadata": {
      "needs_background": "light"
     },
     "output_type": "display_data"
    }
   ],
   "source": [
    "#TotalWellington Prophet\n",
    "y = accomodations['TotalWellingtonOccupancy']\n",
    "\n",
    "res = seasonal_decompose(y, model='mul')\n",
    "\n",
    "# Plot the original data, the trend, the seasonality, and the residuals \n",
    "fig, (ax1,ax2,ax3,ax4) = plt.subplots(4,1, figsize=(10,12), sharex=True);\n",
    "\n",
    "res.observed.plot(ax=ax1, title='Observed');\n",
    "res.seasonal.plot(ax=ax2, title='Seasonality');\n",
    "res.trend.plot(ax=ax3, title='Trend');\n",
    "res.resid.plot(ax=ax4, title='Residual IDs');"
   ]
  },
  {
   "cell_type": "code",
   "execution_count": 5,
   "id": "9dfcb00e",
   "metadata": {},
   "outputs": [
    {
     "data": {
      "text/html": [
       "<div>\n",
       "<style scoped>\n",
       "    .dataframe tbody tr th:only-of-type {\n",
       "        vertical-align: middle;\n",
       "    }\n",
       "\n",
       "    .dataframe tbody tr th {\n",
       "        vertical-align: top;\n",
       "    }\n",
       "\n",
       "    .dataframe thead th {\n",
       "        text-align: right;\n",
       "    }\n",
       "</style>\n",
       "<table border=\"1\" class=\"dataframe\">\n",
       "  <thead>\n",
       "    <tr style=\"text-align: right;\">\n",
       "      <th></th>\n",
       "      <th>ds</th>\n",
       "      <th>y</th>\n",
       "    </tr>\n",
       "  </thead>\n",
       "  <tbody>\n",
       "    <tr>\n",
       "      <th>0</th>\n",
       "      <td>2001-01-01</td>\n",
       "      <td>81801</td>\n",
       "    </tr>\n",
       "    <tr>\n",
       "      <th>1</th>\n",
       "      <td>2001-02-01</td>\n",
       "      <td>92859</td>\n",
       "    </tr>\n",
       "    <tr>\n",
       "      <th>2</th>\n",
       "      <td>2001-03-01</td>\n",
       "      <td>104336</td>\n",
       "    </tr>\n",
       "    <tr>\n",
       "      <th>3</th>\n",
       "      <td>2001-04-01</td>\n",
       "      <td>85569</td>\n",
       "    </tr>\n",
       "    <tr>\n",
       "      <th>4</th>\n",
       "      <td>2001-05-01</td>\n",
       "      <td>80190</td>\n",
       "    </tr>\n",
       "  </tbody>\n",
       "</table>\n",
       "</div>"
      ],
      "text/plain": [
       "          ds       y\n",
       "0 2001-01-01   81801\n",
       "1 2001-02-01   92859\n",
       "2 2001-03-01  104336\n",
       "3 2001-04-01   85569\n",
       "4 2001-05-01   80190"
      ]
     },
     "execution_count": 5,
     "metadata": {},
     "output_type": "execute_result"
    }
   ],
   "source": [
    "# Preparing our data for prophet\n",
    "y_prophet = accomodations[['TotalWellingtonOccupancy']]\n",
    "y_prophet = y_prophet.reset_index()\n",
    "y_prophet.rename(columns = {'Date':'ds', 'TotalWellingtonOccupancy':'y'}, inplace = True)\n",
    "y_prophet.head()"
   ]
  },
  {
   "cell_type": "code",
   "execution_count": 6,
   "id": "94e9bbd3",
   "metadata": {},
   "outputs": [],
   "source": [
    "%%capture\n",
    "#Initial model we will tweak this model a bit\n",
    "#to stop error messages, mostly unnecessary INFO\n",
    "%logstop[]\n",
    "m = Prophet()\n",
    "m.fit(y_prophet)\n",
    "y_pred = m.make_future_dataframe(periods = 24, freq = 'MS')"
   ]
  },
  {
   "cell_type": "code",
   "execution_count": 7,
   "id": "921df75d",
   "metadata": {},
   "outputs": [
    {
     "ename": "NameError",
     "evalue": "name 'y_pred' is not defined",
     "output_type": "error",
     "traceback": [
      "\u001b[1;31m---------------------------------------------------------------------------\u001b[0m",
      "\u001b[1;31mNameError\u001b[0m                                 Traceback (most recent call last)",
      "\u001b[1;32m~\\AppData\\Local\\Temp/ipykernel_27788/1304837775.py\u001b[0m in \u001b[0;36m<module>\u001b[1;34m\u001b[0m\n\u001b[1;32m----> 1\u001b[1;33m \u001b[0my_pred\u001b[0m\u001b[1;33m.\u001b[0m\u001b[0mtail\u001b[0m\u001b[1;33m(\u001b[0m\u001b[1;33m)\u001b[0m\u001b[1;33m\u001b[0m\u001b[1;33m\u001b[0m\u001b[0m\n\u001b[0m",
      "\u001b[1;31mNameError\u001b[0m: name 'y_pred' is not defined"
     ]
    }
   ],
   "source": [
    "y_pred.tail()"
   ]
  },
  {
   "cell_type": "code",
   "execution_count": null,
   "id": "b2f23c30",
   "metadata": {},
   "outputs": [],
   "source": [
    "#Have to place this here to avoid further extraneous messages from prophet\n",
    "#Get very long during certain processes\n",
    "#Cannot avoid the first one (due to cmdstanpy)\n",
    "\n",
    "import logging\n",
    "logger = logging.getLogger('cmdstanpy')\n",
    "logger.setLevel(logging.ERROR)\n",
    "logger2 = logging.getLogger('prophet')\n",
    "logger2.setLevel(logging.ERROR)"
   ]
  },
  {
   "cell_type": "code",
   "execution_count": null,
   "id": "4d5b5ef0",
   "metadata": {},
   "outputs": [],
   "source": [
    "y_fore = m.predict(y_pred)\n",
    "y_fore.tail()"
   ]
  },
  {
   "cell_type": "code",
   "execution_count": null,
   "id": "de74a610",
   "metadata": {},
   "outputs": [],
   "source": [
    "#looks okay\n",
    "fig1 = m.plot(y_fore)"
   ]
  },
  {
   "cell_type": "code",
   "execution_count": null,
   "id": "8ea871ad",
   "metadata": {},
   "outputs": [],
   "source": [
    "#First model plot, maybe we can improve on this\n",
    "plt.figure(figsize=(12,8))\n",
    "\n",
    "plt.title('Original and Predicted')\n",
    "plt.plot(y, label='Original')\n",
    "plt.plot(y_fore['ds'], y_fore['yhat'], alpha=0.7, label='Predicted')\n",
    "\n",
    "plt.legend()\n",
    "\n",
    "plt.show()"
   ]
  },
  {
   "cell_type": "code",
   "execution_count": null,
   "id": "d85e3881",
   "metadata": {},
   "outputs": [],
   "source": [
    "#Some cross validation to check our metrics\n",
    "#Manually create cutoffs as cross_validation does not do monthly\n",
    "cutoffs = pd.date_range(start='2014-01-01', end = '2017-09-01', freq='2MS')\n",
    "y_cv = cross_validation(m, horizon = '730 days', cutoffs = cutoffs)\n",
    "y_metrics = performance_metrics(y_cv)\n",
    "y_metrics"
   ]
  },
  {
   "cell_type": "code",
   "execution_count": null,
   "id": "3e3bf57b",
   "metadata": {},
   "outputs": [],
   "source": [
    "#Lets tune a little\n",
    "m = Prophet(daily_seasonality = False, seasonality_mode = 'multiplicative')\n",
    "m.add_country_holidays(country_name = 'US')\n",
    "m.fit(y_prophet)\n",
    "y_pred = m.make_future_dataframe(periods = 24, freq = 'MS')\n",
    "y_pred.tail()"
   ]
  },
  {
   "cell_type": "code",
   "execution_count": null,
   "id": "8188f7a5",
   "metadata": {},
   "outputs": [],
   "source": [
    "y_fore = m.predict(y_pred)\n",
    "y_fore.tail()"
   ]
  },
  {
   "cell_type": "code",
   "execution_count": null,
   "id": "38d0edeb",
   "metadata": {},
   "outputs": [],
   "source": [
    "#First model plot, maybe we can improve on this\n",
    "plt.figure(figsize=(12,8))\n",
    "\n",
    "plt.title('Original and Predicted')\n",
    "plt.plot(y, label='Original')\n",
    "plt.plot(y_fore['ds'], y_fore['yhat'], alpha=0.7, label='Predicted')\n",
    "\n",
    "plt.legend()\n",
    "\n",
    "plt.show()"
   ]
  },
  {
   "cell_type": "code",
   "execution_count": null,
   "id": "75c8e94f",
   "metadata": {},
   "outputs": [],
   "source": [
    "cutoffs = pd.date_range(start='2014-01-01', end = '2017-09-01', freq='2MS')\n",
    "y_cv = cross_validation(m, horizon = '730 days', cutoffs = cutoffs)\n",
    "y_metrics = performance_metrics(y_cv)\n",
    "y_metrics.head()"
   ]
  },
  {
   "cell_type": "markdown",
   "id": "b9838065",
   "metadata": {},
   "source": [
    "Seems like model got worse, we'll stick to the defaults for forecasting for now!"
   ]
  },
  {
   "cell_type": "markdown",
   "id": "125b5cd7",
   "metadata": {},
   "source": [
    "### 2.1.4 Modeling Total Occupancy in Queenstown (AdaBoost)"
   ]
  },
  {
   "cell_type": "code",
   "execution_count": null,
   "id": "81f6e191",
   "metadata": {
    "kernel": "SoS"
   },
   "outputs": [],
   "source": [
    "#TotalQueenstown AdaBoost\n",
    "\n",
    "y = accomodations['TotalQueenstownOccupancy']\n",
    "\n",
    "res = seasonal_decompose(y, model='mul')\n",
    "\n",
    "# Plot the original data, the trend, the seasonality, and the residuals \n",
    "fig, (ax1,ax2,ax3,ax4) = plt.subplots(4,1, figsize=(10,12), sharex=True);\n",
    "\n",
    "res.observed.plot(ax=ax1, title='Observed')\n",
    "res.seasonal.plot(ax=ax2, title='Seasonality')\n",
    "res.trend.plot(ax=ax3, title='Trend')\n",
    "res.resid.plot(ax=ax4, title='Residual IDs')"
   ]
  },
  {
   "cell_type": "code",
   "execution_count": null,
   "id": "ecaf7df3",
   "metadata": {
    "kernel": "SoS"
   },
   "outputs": [],
   "source": [
    "# fit AdaBoost model and make a one step prediction\n",
    "def random_ada_forecast(train, testX):\n",
    "\t# transform list into array\n",
    "\ttrain = np.asarray(train)\n",
    "\t# split into input and output columns\n",
    "\ttrainX, trainy = train[:, :-1], train[:, -1]\n",
    "\t# fit model\n",
    "\tmodel = AdaBoostClassifier(n_estimators=1000)\n",
    "\tmodel.fit(trainX, trainy)\n",
    "\t# make a one-step prediction\n",
    "\tyhat = model.predict([testX])\n",
    "\treturn yhat[0]\n",
    " \n",
    "# walk-forward validation for univariate data\n",
    "def walk_forward_ada(data, n_test):\n",
    "\tpredictions = list()\n",
    "\t# split dataset\n",
    "\ttrain, test = train_test_split(data, n_test)\n",
    "\t# seed history with training dataset\n",
    "\thistory = [x for x in train]\n",
    "\t# step over each time-step in the test set\n",
    "\tfor i in range(len(test)):\n",
    "\t\t# split test row into input and output columns\n",
    "\t\ttestX, testy = test[i, :-1], test[i, -1]\n",
    "\t\t# fit model on history and make a prediction\n",
    "\t\tyhat = random_ada_forecast(history, testX)\n",
    "\t\t# store forecast in list of predictions\n",
    "\t\tpredictions.append(yhat)\n",
    "\t\t# add actual observation to history for the next loop\n",
    "\t\thistory.append(test[i])\n",
    "\t\t# summarize progress\n",
    "\t\t#print('>expected=%.1f, predicted=%.1f' % (testy, yhat))\n",
    "\t# estimate prediction error\n",
    "\terror = mean_absolute_error(test[:, -1], predictions)\n",
    "\treturn error, test[:, -1], predictions\n",
    "\n",
    "def multistep_ada(steps, y_list):\n",
    "    y_pred = y_list.copy()\n",
    "    \n",
    "    for s in range(steps):\n",
    "        train = series_to_supervised(y_pred, n_in=steps)\n",
    "            # split into input and output columns\n",
    "        trainX, trainy = train[:, :-1], train[:, -1]\n",
    "            # fit model\n",
    "        model = AdaBoostClassifier(n_estimators=1000)\n",
    "        model.fit(trainX, trainy)\n",
    "        row = y_pred[-steps:]\n",
    "        yhat = model.predict(np.asarray([row]))\n",
    "        y_pred.append(yhat[0])\n",
    "    return y_pred"
   ]
  },
  {
   "cell_type": "code",
   "execution_count": null,
   "id": "f7338a65",
   "metadata": {},
   "outputs": [],
   "source": [
    "# Convert data to a list\n",
    "y_list = list(y)\n",
    "# transform the time series data into supervised learning\n",
    "data = series_to_supervised(y_list, n_in=100)\n",
    "# evaluate\n",
    "mae, y, yhat = walk_forward_ada(data, n_test=100)\n",
    "#print('MAE: %.3f' % mae)\n",
    "# plot expected vs predicted\n",
    "fig = plt.figure(figsize = (12,10))\n",
    "plt.plot(y, label='Expected')\n",
    "plt.plot(yhat, label='Predicted')\n",
    "plt.legend()\n",
    "plt.show()"
   ]
  },
  {
   "cell_type": "code",
   "execution_count": null,
   "id": "d5285a06",
   "metadata": {},
   "outputs": [],
   "source": [
    "# set amount to forecast\n",
    "n = 50\n",
    "#Forecast forward\n",
    "y_pred = multistep_ada(n, y_list)\n",
    "pred_index = range(len(y_pred) - n, len(y_pred))\n",
    "\n",
    "#plot our forecasting\n",
    "plt.figure(figsize = (12,10))\n",
    "plt.plot(y_list, label='Expected')\n",
    "(line1,) = plt.plot(pred_index, y_pred[-n:], label='Predicted')\n",
    "plt.legend()\n",
    "plt.show()"
   ]
  },
  {
   "cell_type": "markdown",
   "id": "d27a3780",
   "metadata": {},
   "source": [
    "### 2.1.5 Modeling Total Occupancy in New Zealand (K-Nearest Neighbors)"
   ]
  },
  {
   "cell_type": "code",
   "execution_count": null,
   "id": "92fc4f0b",
   "metadata": {
    "kernel": "SoS"
   },
   "outputs": [],
   "source": [
    "#TotalTotalnew Zealand KNN \n",
    "y = accomodations[['TotalTotal New ZealandOccupancy']]\n",
    "\n",
    "res = seasonal_decompose(y, model='add')\n",
    "\n",
    "# Plot the original data, the trend, the seasonality, and the residuals \n",
    "fig, (ax1,ax2,ax3,ax4) = plt.subplots(4,1, figsize=(10,12), sharex=True);\n",
    "\n",
    "res.observed.plot(ax=ax1, title='Observed')\n",
    "res.seasonal.plot(ax=ax2, title='Seasonality')\n",
    "res.trend.plot(ax=ax3, title='Trend')\n",
    "res.resid.plot(ax=ax4, title='Residual IDs')"
   ]
  },
  {
   "cell_type": "code",
   "execution_count": null,
   "id": "633670b9",
   "metadata": {},
   "outputs": [],
   "source": [
    "def random_knn_forecast(train, testX):\n",
    "\t# transform list into array\n",
    "\ttrain = np.asarray(train)\n",
    "\t# split into input and output columns\n",
    "\ttrainX, trainy = train[:, :-1], train[:, -1]\n",
    "\t# fit model\n",
    "\tmodel = KNeighborsRegressor(n_neighbors = 10)\n",
    "\tmodel.fit(trainX, trainy)\n",
    "\t# make a one-step prediction\n",
    "\tyhat = model.predict([testX])\n",
    "\treturn yhat[0]\n",
    " \n",
    "# walk-forward validation for univariate data\n",
    "def walk_forward_knn(data, n_test):\n",
    "\tpredictions = list()\n",
    "\t# split dataset\n",
    "\ttrain, test = train_test_split(data, n_test)\n",
    "\t# seed history with training dataset\n",
    "\thistory = [x for x in train]\n",
    "\t# step over each time-step in the test set\n",
    "\tfor i in range(len(test)):\n",
    "\t\t# split test row into input and output columns\n",
    "\t\ttestX, testy = test[i, :-1], test[i, -1]\n",
    "\t\t# fit model on history and make a prediction\n",
    "\t\tyhat = random_knn_forecast(history, testX)\n",
    "\t\t# store forecast in list of predictions\n",
    "\t\tpredictions.append(yhat)\n",
    "\t\t# add actual observation to history for the next loop\n",
    "\t\thistory.append(test[i])\n",
    "\t\t# summarize progress\n",
    "\t\t#print('>expected=%.1f, predicted=%.1f' % (testy, yhat))\n",
    "\t# estimate prediction error\n",
    "\terror = mean_absolute_error(test[:, -1], predictions)\n",
    "\treturn error, test[:, -1], predictions\n",
    "\n",
    "def multistep_knn(steps, y_list):\n",
    "    y_pred = y_list.copy()\n",
    "    \n",
    "    for s in range(steps):\n",
    "        train = series_to_supervised(y_pred, n_in=steps)\n",
    "            # split into input and output columns\n",
    "        trainX, trainy = train[:, :-1], train[:, -1]\n",
    "            # fit model\n",
    "        model = KNeighborsRegressor(n_neighbors = 10)\n",
    "        model.fit(trainX, trainy)\n",
    "        row = y_pred[-steps:]\n",
    "        yhat = model.predict(np.asarray([row]))\n",
    "        y_pred.append(yhat[0])\n",
    "    return y_pred"
   ]
  },
  {
   "cell_type": "code",
   "execution_count": null,
   "id": "a030390e",
   "metadata": {},
   "outputs": [],
   "source": [
    "# Convert data to a list\n",
    "y_list = list(y['TotalTotal New ZealandOccupancy'])\n",
    "# transform the time series data into supervised learning\n",
    "data = series_to_supervised(y_list, n_in=100)\n",
    "# evaluate\n",
    "mae, y, yhat = walk_forward_knn(data, n_test=100)\n",
    "#print('MAE: %.3f' % mae)\n",
    "# plot expected vs predicted\n",
    "fig = plt.figure(figsize = (12,10))\n",
    "plt.plot(y, label='Expected')\n",
    "plt.plot(yhat, label='Predicted')\n",
    "plt.legend()\n",
    "plt.show()"
   ]
  },
  {
   "cell_type": "code",
   "execution_count": null,
   "id": "a7e46b51",
   "metadata": {},
   "outputs": [],
   "source": [
    "# set amount to forecast\n",
    "n = 50\n",
    "#Forecast forward\n",
    "y_pred = multistep_knn(n, y_list)\n",
    "pred_index = range(len(y_pred) - n, len(y_pred))\n",
    "\n",
    "#plot our forecasting\n",
    "plt.figure(figsize = (12,10))\n",
    "plt.plot(y_list, label='Expected')\n",
    "(line1,) = plt.plot(pred_index, y_pred[-n:], label='Predicted')\n",
    "plt.legend()\n",
    "plt.show()"
   ]
  },
  {
   "cell_type": "markdown",
   "id": "f37dd567",
   "metadata": {},
   "source": [
    "## 2.2 Modeling Motel Occupancy"
   ]
  },
  {
   "cell_type": "markdown",
   "id": "7423dcf5",
   "metadata": {},
   "source": [
    "### 2.2.1 Modeling Motel Occupancy in Auckland (ETS)"
   ]
  },
  {
   "cell_type": "code",
   "execution_count": null,
   "id": "d22f02f0",
   "metadata": {
    "kernel": "SoS"
   },
   "outputs": [],
   "source": [
    "#Motels Auckland ETS\n",
    "y = accomodations['MotelsAucklandOccupancy']\n",
    "y = y.astype('float64')\n",
    "\n",
    "res = seasonal_decompose(y, model='add')\n",
    "\n",
    "# Plot the original data, the trend, the seasonality, and the residuals \n",
    "fig, (ax1,ax2,ax3,ax4) = plt.subplots(4,1, figsize=(10,12), sharex=True);\n",
    "\n",
    "res.observed.plot(ax=ax1, title='Observed')\n",
    "res.seasonal.plot(ax=ax2, title='Seasonality')\n",
    "res.trend.plot(ax=ax3, title='Trend')\n",
    "res.resid.plot(ax=ax4, title='Residual IDs')"
   ]
  },
  {
   "cell_type": "code",
   "execution_count": null,
   "id": "60d082b7",
   "metadata": {},
   "outputs": [],
   "source": [
    "ETS = ETSModel(y, error = 'add', trend = 'add', seasonal = 'add', seasonal_periods = 12)\n",
    "ETS_fit = ETS.fit()\n",
    "\n",
    "plt.figure(figsize=(12,8))\n",
    "\n",
    "plt.title('Original and Predicted')\n",
    "plt.plot(y, label='Original')\n",
    "plt.plot(ETS_fit.fittedvalues, alpha=0.7, label='Predicted')\n",
    "\n",
    "plt.legend()\n",
    "\n",
    "plt.show()"
   ]
  },
  {
   "cell_type": "code",
   "execution_count": null,
   "id": "58c348b2",
   "metadata": {},
   "outputs": [],
   "source": [
    "ETS_fit.summary()"
   ]
  },
  {
   "cell_type": "code",
   "execution_count": null,
   "id": "2bca7efd",
   "metadata": {},
   "outputs": [],
   "source": [
    "y_fore = ETS_fit.forecast(36)\n",
    "plt.figure(figsize=(15,8))\n",
    "\n",
    "plt.plot(ETS_fit.fittedvalues, alpha=0.7, label='Predicted')\n",
    "(line1,) = plt.plot(y_fore)"
   ]
  },
  {
   "cell_type": "markdown",
   "id": "c674fca0",
   "metadata": {},
   "source": [
    "### 2.2.2 Modeling Motel Occupancy in Canterbury (AdaBoost)"
   ]
  },
  {
   "cell_type": "code",
   "execution_count": null,
   "id": "c7259ec2",
   "metadata": {
    "kernel": "SoS"
   },
   "outputs": [],
   "source": [
    "#Motels Canterbury Adaboost\n",
    "y = accomodations['MotelsCanterburyOccupancy']\n",
    "\n",
    "res = seasonal_decompose(y, model='add')\n",
    "\n",
    "# Plot the original data, the trend, the seasonality, and the residuals \n",
    "fig, (ax1,ax2,ax3,ax4) = plt.subplots(4,1, figsize=(10,12), sharex=True);\n",
    "\n",
    "res.observed.plot(ax=ax1, title='Observed')\n",
    "res.seasonal.plot(ax=ax2, title='Seasonality')\n",
    "res.trend.plot(ax=ax3, title='Trend')\n",
    "res.resid.plot(ax=ax4, title='Residual IDs')"
   ]
  },
  {
   "cell_type": "code",
   "execution_count": null,
   "id": "51e04b84",
   "metadata": {},
   "outputs": [],
   "source": [
    "# Convert data to a list\n",
    "y_list = list(y)\n",
    "# transform the time series data into supervised learning\n",
    "data = series_to_supervised(y_list, n_in=100)\n",
    "# evaluate\n",
    "mae, y, yhat = walk_forward_ada(data, n_test=100)\n",
    "#print('MAE: %.3f' % mae)\n",
    "# plot expected vs predicted\n",
    "plt.figure(figsize = (12,10))\n",
    "plt.plot(y, label='Expected')\n",
    "plt.plot(yhat, label='Predicted')\n",
    "plt.legend()\n",
    "plt.show()"
   ]
  },
  {
   "cell_type": "code",
   "execution_count": null,
   "id": "20cffceb",
   "metadata": {},
   "outputs": [],
   "source": [
    "# set amount to forecast\n",
    "n = 50\n",
    "#Forecast forward\n",
    "y_pred = multistep_ada(n, y_list)\n",
    "pred_index = range(len(y_pred) - n, len(y_pred))\n",
    "\n",
    "#plot our forecasting\n",
    "plt.figure(figsize = (12,10))\n",
    "plt.plot(y_list, label='Expected')\n",
    "(line1,) = plt.plot(pred_index, y_pred[-n:], label='Predicted')\n",
    "plt.legend()\n",
    "plt.show()"
   ]
  },
  {
   "cell_type": "markdown",
   "id": "0aa5ee38",
   "metadata": {},
   "source": [
    "### 2.2.3 Modeling Motel Occupancy in Wellington (Random Forest)"
   ]
  },
  {
   "cell_type": "code",
   "execution_count": null,
   "id": "0af4a0b5",
   "metadata": {
    "kernel": "SoS"
   },
   "outputs": [],
   "source": [
    "#Motels Wellington Decision Tree\n",
    "y = accomodations['MotelsWellingtonOccupancy']\n",
    "\n",
    "res = seasonal_decompose(y, model='add')\n",
    "\n",
    "# Plot the original data, the trend, the seasonality, and the residuals \n",
    "fig, (ax1,ax2,ax3,ax4) = plt.subplots(4,1, figsize=(10,12), sharex=True);\n",
    "\n",
    "res.observed.plot(ax=ax1, title='Observed')\n",
    "res.seasonal.plot(ax=ax2, title='Seasonality')\n",
    "res.trend.plot(ax=ax3, title='Trend')\n",
    "res.resid.plot(ax=ax4, title='Residual IDs')"
   ]
  },
  {
   "cell_type": "code",
   "execution_count": null,
   "id": "493c8971",
   "metadata": {},
   "outputs": [],
   "source": [
    "# Convert data to a list\n",
    "y_list = list(y)\n",
    "# transform the time series data into supervised learning\n",
    "data = series_to_supervised(y_list, n_in=100)\n",
    "# evaluate\n",
    "mae, y, yhat = walk_forward_validation(data, n_test=100)\n",
    "#print('MAE: %.3f' % mae)\n",
    "# plot expected vs predicted\n",
    "plt.plot(y, label='Expected')\n",
    "plt.plot(yhat, label='Predicted')\n",
    "plt.legend()\n",
    "plt.show()"
   ]
  },
  {
   "cell_type": "code",
   "execution_count": null,
   "id": "f0d1b824",
   "metadata": {},
   "outputs": [],
   "source": [
    "# choose how many steps forward\n",
    "n = 50\n",
    "#run func\n",
    "y_pred = multistep_forecast(n, y_list)\n",
    "#find length \n",
    "pred_index = range(len(y_pred) - n, len(y_pred))\n",
    "#plot\n",
    "plt.figure(figsize = (12,10))\n",
    "plt.plot(y_list, label='Expected')\n",
    "(line1,) = plt.plot(pred_index, y_pred[-n:], label='Predicted')\n",
    "plt.legend()\n",
    "plt.show()"
   ]
  },
  {
   "cell_type": "markdown",
   "id": "c3f644e5",
   "metadata": {},
   "source": [
    "### 2.2.4 Modeling Motel Occupancy in Queenstown (BATS)"
   ]
  },
  {
   "cell_type": "code",
   "execution_count": null,
   "id": "84c7001c",
   "metadata": {
    "kernel": "SoS"
   },
   "outputs": [],
   "source": [
    "#Motels Queenstown BATS\n",
    "y = accomodations[['MotelsQueenstownOccupancy']]\n",
    "\n",
    "res = seasonal_decompose(y, model='add')\n",
    "\n",
    "# Plot the original data, the trend, the seasonality, and the residuals \n",
    "fig, (ax1,ax2,ax3,ax4) = plt.subplots(4,1, figsize=(10,12), sharex=True);\n",
    "\n",
    "res.observed.plot(ax=ax1, title='Observed')\n",
    "res.seasonal.plot(ax=ax2, title='Seasonality')\n",
    "res.trend.plot(ax=ax3, title='Trend')\n",
    "res.resid.plot(ax=ax4, title='Residual IDs')"
   ]
  },
  {
   "cell_type": "code",
   "execution_count": null,
   "id": "c6e38174",
   "metadata": {},
   "outputs": [],
   "source": [
    "#Create TimeSeries datatype\n",
    "ts = TimeSeries.from_series(y)\n",
    "\n",
    "#Create the BATS model and fit\n",
    "model = tbats.BATS()\n",
    "model_fit = model.fit(ts)\n",
    "\n",
    "#Predict with the model\n",
    "y_pred = model_fit.predict(36)\n",
    "\n",
    "#Convert back to dataframe so we can use it\n",
    "y_pred_df = y_pred.pd_dataframe()\n",
    "y_pred_df.head()"
   ]
  },
  {
   "cell_type": "code",
   "execution_count": null,
   "id": "2f9ff8ab",
   "metadata": {},
   "outputs": [],
   "source": [
    "#Plot onto the time series\n",
    "plt.figure(figsize=(15,8))\n",
    "\n",
    "plt.plot(y, alpha=0.7, label='Predicted')\n",
    "(line1,) = plt.plot(y_pred_df)"
   ]
  },
  {
   "cell_type": "markdown",
   "id": "f0d37a9c",
   "metadata": {},
   "source": [
    "### 2.2.5 Modeling Motel Occupancy in New Zealand (LightGBM)"
   ]
  },
  {
   "cell_type": "code",
   "execution_count": null,
   "id": "1c997421",
   "metadata": {},
   "outputs": [],
   "source": [
    "#Motels Total New Zealand\n",
    "#lightGBM using DARTS\n",
    "y = accomodations[['MotelsTotal New ZealandOccupancy']]\n",
    "\n",
    "res = seasonal_decompose(y, model='add')\n",
    "\n",
    "# Plot the original data, the trend, the seasonality, and the residuals \n",
    "fig, (ax1,ax2,ax3,ax4) = plt.subplots(4,1, figsize=(10,12), sharex=True);\n",
    "\n",
    "res.observed.plot(ax=ax1, title='Observed')\n",
    "res.seasonal.plot(ax=ax2, title='Seasonality')\n",
    "res.trend.plot(ax=ax3, title='Trend')\n",
    "res.resid.plot(ax=ax4, title='Residual IDs')"
   ]
  },
  {
   "cell_type": "code",
   "execution_count": null,
   "id": "747fb82a",
   "metadata": {},
   "outputs": [],
   "source": [
    "from darts.models.forecasting.gradient_boosted_model import LightGBMModel"
   ]
  },
  {
   "cell_type": "code",
   "execution_count": null,
   "id": "4939bc5b",
   "metadata": {},
   "outputs": [],
   "source": [
    "lgbm = LightGBMModel(lags = 24)"
   ]
  },
  {
   "cell_type": "code",
   "execution_count": null,
   "id": "d02fd4ef",
   "metadata": {},
   "outputs": [],
   "source": [
    "#Convert to timeseries\n",
    "y_ts = TimeSeries.from_dataframe(y)\n",
    "\n",
    "lgbm.fit(y_ts)"
   ]
  },
  {
   "cell_type": "code",
   "execution_count": null,
   "id": "9c939ed4",
   "metadata": {},
   "outputs": [],
   "source": [
    "y_pred = lgbm.predict(24)"
   ]
  },
  {
   "cell_type": "code",
   "execution_count": null,
   "id": "32d9c31d",
   "metadata": {},
   "outputs": [],
   "source": [
    "y_pred_df = TimeSeries.pd_dataframe(y_pred)"
   ]
  },
  {
   "cell_type": "code",
   "execution_count": null,
   "id": "feb4557f",
   "metadata": {},
   "outputs": [],
   "source": [
    "plt.figure(figsize=(15,8))\n",
    "\n",
    "plt.plot(y, alpha=0.7, label='Predicted')\n",
    "(line1,) = plt.plot(y_pred_df)"
   ]
  },
  {
   "cell_type": "markdown",
   "id": "e462bdc6",
   "metadata": {},
   "source": [
    "## 2.3 Modeling Hotel Occupancy"
   ]
  },
  {
   "cell_type": "markdown",
   "id": "cb7c6230",
   "metadata": {},
   "source": [
    "### 2.3.1 Modeling Hotel Occupancy in Auckland (Random Forest)"
   ]
  },
  {
   "cell_type": "code",
   "execution_count": null,
   "id": "d56dfb58",
   "metadata": {},
   "outputs": [],
   "source": [
    "#Hotels Auckland Random Forest\n",
    "y = accomodations['HotelsAucklandOccupancy']\n",
    "\n",
    "res = seasonal_decompose(y, model='add')\n",
    "\n",
    "# Plot the original data, the trend, the seasonality, and the residuals \n",
    "fig, (ax1,ax2,ax3,ax4) = plt.subplots(4,1, figsize=(10,12), sharex=True);\n",
    "\n",
    "res.observed.plot(ax=ax1, title='Observed')\n",
    "res.seasonal.plot(ax=ax2, title='Seasonality')\n",
    "res.trend.plot(ax=ax3, title='Trend')\n",
    "res.resid.plot(ax=ax4, title='Residual IDs')"
   ]
  },
  {
   "cell_type": "code",
   "execution_count": null,
   "id": "166fd3a9",
   "metadata": {},
   "outputs": [],
   "source": [
    "# Convert data to a list\n",
    "y_list = list(y)\n",
    "# transform the time series data into supervised learning\n",
    "data = series_to_supervised(y_list, n_in=100)\n",
    "# evaluate\n",
    "mae, y, yhat = walk_forward_validation(data, n_test=100)\n",
    "#print('MAE: %.3f' % mae)\n",
    "# plot expected vs predicted\n",
    "plt.plot(y, label='Expected')\n",
    "plt.plot(yhat, label='Predicted')\n",
    "plt.legend()\n",
    "plt.show()"
   ]
  },
  {
   "cell_type": "code",
   "execution_count": null,
   "id": "4c70de63",
   "metadata": {},
   "outputs": [],
   "source": [
    "# transform the time series data into supervised learning\n",
    "n = 50\n",
    "y_pred = multistep_forecast(n, y_list)\n",
    "pred_index = range(len(y_pred) - n, len(y_pred))\n",
    "plt.figure(figsize = (12,10))\n",
    "plt.plot(y_list, label='Expected')\n",
    "(line1,) = plt.plot(pred_index, y_pred[-n:], label='Predicted')\n",
    "plt.legend()\n",
    "plt.show()"
   ]
  },
  {
   "cell_type": "markdown",
   "id": "d83021dd",
   "metadata": {},
   "source": [
    "### 2.3.2 Modeling Hotel Occupancy in Canterbury (Exp. Smoothing)"
   ]
  },
  {
   "cell_type": "code",
   "execution_count": null,
   "id": "66ceeefb",
   "metadata": {},
   "outputs": [],
   "source": [
    "#Hotels Canterbury Exp Smooth\n",
    "y = accomodations['HotelsCanterburyOccupancy']\n",
    "\n",
    "res = seasonal_decompose(y, model='mult')\n",
    "\n",
    "# Plot the original data, the trend, the seasonality, and the residuals \n",
    "fig, (ax1,ax2,ax3,ax4) = plt.subplots(4,1, figsize=(10,12), sharex=True);\n",
    "\n",
    "res.observed.plot(ax=ax1, title='Observed')\n",
    "res.seasonal.plot(ax=ax2, title='Seasonality')\n",
    "res.trend.plot(ax=ax3, title='Trend')\n",
    "res.resid.plot(ax=ax4, title='Residual IDs')"
   ]
  },
  {
   "cell_type": "code",
   "execution_count": null,
   "id": "5ff1fe75",
   "metadata": {},
   "outputs": [],
   "source": [
    "exp = ExponentialSmoothing(y, trend = 'mul', seasonal = 'mul', damped_trend = True)\n",
    "exp_fit = exp.fit(method = 'ls')\n",
    "\n",
    "plt.figure(figsize=(12,8))\n",
    "\n",
    "plt.title('Original and Predicted')\n",
    "plt.plot(y, label='Original')\n",
    "plt.plot(exp_fit.fittedvalues, alpha=0.7, label='Predicted')\n",
    "\n",
    "plt.legend()\n",
    "plt.show()"
   ]
  },
  {
   "cell_type": "code",
   "execution_count": null,
   "id": "1f2df4a0",
   "metadata": {},
   "outputs": [],
   "source": [
    "exp_fit.summary()"
   ]
  },
  {
   "cell_type": "code",
   "execution_count": null,
   "id": "206296f7",
   "metadata": {},
   "outputs": [],
   "source": [
    "y_fore = exp_fit.forecast(36)\n",
    "plt.figure(figsize=(15,8))\n",
    "\n",
    "plt.plot(exp_fit.fittedvalues, alpha=0.7, label='Predicted')\n",
    "(line1,) = plt.plot(y_fore)"
   ]
  },
  {
   "cell_type": "markdown",
   "id": "a985f6ba",
   "metadata": {},
   "source": [
    "### 2.3.3 Modeling Hotel Occupancy in Wellington (Random Forest)"
   ]
  },
  {
   "cell_type": "code",
   "execution_count": null,
   "id": "7c4f5817",
   "metadata": {},
   "outputs": [],
   "source": [
    "#hotels Wellington Random Forest\n",
    "y = accomodations['HotelsWellingtonOccupancy']\n",
    "\n",
    "res = seasonal_decompose(y, model='add')\n",
    "\n",
    "# Plot the original data, the trend, the seasonality, and the residuals \n",
    "fig, (ax1,ax2,ax3,ax4) = plt.subplots(4,1, figsize=(10,12), sharex=True);\n",
    "\n",
    "res.observed.plot(ax=ax1, title='Observed')\n",
    "res.seasonal.plot(ax=ax2, title='Seasonality')\n",
    "res.trend.plot(ax=ax3, title='Trend')\n",
    "res.resid.plot(ax=ax4, title='Residual IDs')"
   ]
  },
  {
   "cell_type": "code",
   "execution_count": null,
   "id": "32cf6ed1",
   "metadata": {},
   "outputs": [],
   "source": [
    "# Convert data to a list\n",
    "y_list = list(y)\n",
    "# transform the time series data into supervised learning\n",
    "data = series_to_supervised(y_list, n_in=100)\n",
    "# evaluate\n",
    "mae, y, yhat = walk_forward_validation(data, n_test=100)\n",
    "#print('MAE: %.3f' % mae)\n",
    "# plot expected vs predicted\n",
    "plt.figure(figsize = (12,10))\n",
    "plt.plot(y, label='Expected')\n",
    "plt.plot(yhat, label='Predicted')\n",
    "plt.legend()\n",
    "plt.show()"
   ]
  },
  {
   "cell_type": "code",
   "execution_count": null,
   "id": "38536524",
   "metadata": {},
   "outputs": [],
   "source": [
    "# transform the time series data into supervised learning\n",
    "n = 50\n",
    "y_pred = multistep_forecast(n, y_list)\n",
    "pred_index = range(len(y_pred) - n, len(y_pred))\n",
    "plt.figure(figsize = (12,10))\n",
    "plt.plot(y_list, label='Expected')\n",
    "(line1,) = plt.plot(pred_index, y_pred[-n:], label='Predicted')\n",
    "plt.legend()\n",
    "plt.show()"
   ]
  },
  {
   "cell_type": "markdown",
   "id": "293ca9bc",
   "metadata": {},
   "source": [
    "### 2.3.4 Modeling Hotel Occupancy in Queenstown (FB Prophet)"
   ]
  },
  {
   "cell_type": "code",
   "execution_count": null,
   "id": "7d3fae40",
   "metadata": {},
   "outputs": [],
   "source": [
    "#Hotels Queenstown Prophet\n",
    "y = accomodations['HotelsQueenstownOccupancy']\n",
    "\n",
    "res = seasonal_decompose(y, model='add')\n",
    "\n",
    "# Plot the original data, the trend, the seasonality, and the residuals \n",
    "fig, (ax1,ax2,ax3,ax4) = plt.subplots(4,1, figsize=(10,12), sharex=True);\n",
    "\n",
    "res.observed.plot(ax=ax1, title='Observed')\n",
    "res.seasonal.plot(ax=ax2, title='Seasonality')\n",
    "res.trend.plot(ax=ax3, title='Trend')\n",
    "res.resid.plot(ax=ax4, title='Residual IDs')"
   ]
  },
  {
   "cell_type": "code",
   "execution_count": null,
   "id": "152a153f",
   "metadata": {},
   "outputs": [],
   "source": [
    "# Preparing our data for prophet\n",
    "y_prophet = accomodations[['HotelsQueenstownOccupancy']]\n",
    "y_prophet = y_prophet.reset_index()\n",
    "y_prophet.rename(columns = {'Date':'ds', 'HotelsQueenstownOccupancy':'y'}, inplace = True)\n",
    "y_prophet.head()"
   ]
  },
  {
   "cell_type": "code",
   "execution_count": null,
   "id": "40748982",
   "metadata": {},
   "outputs": [],
   "source": [
    "#Sticking to default model\n",
    "m = Prophet()\n",
    "m.fit(y_prophet)\n",
    "y_pred = m.make_future_dataframe(periods = 24, freq = 'MS')\n",
    "y_pred.tail()"
   ]
  },
  {
   "cell_type": "code",
   "execution_count": null,
   "id": "43ac4ab2",
   "metadata": {},
   "outputs": [],
   "source": [
    "y_fore = m.predict(y_pred)\n",
    "y_fore.tail()"
   ]
  },
  {
   "cell_type": "code",
   "execution_count": null,
   "id": "3691ab76",
   "metadata": {},
   "outputs": [],
   "source": [
    "#First model plot, maybe we can improve on this\n",
    "plt.figure(figsize=(12,8))\n",
    "\n",
    "plt.title('Original and Predicted')\n",
    "plt.plot(y, label='Original')\n",
    "plt.plot(y_fore['ds'], y_fore['yhat'], alpha=0.7, label='Predicted')\n",
    "\n",
    "plt.legend()\n",
    "\n",
    "plt.show()"
   ]
  },
  {
   "cell_type": "code",
   "execution_count": null,
   "id": "5badad84",
   "metadata": {},
   "outputs": [],
   "source": [
    "cutoffs = pd.date_range(start='2014-01-01', end = '2017-09-01', freq='2MS')\n",
    "y_cv = cross_validation(m, horizon = '730 days', cutoffs = cutoffs)\n",
    "y_metrics = performance_metrics(y_cv)\n",
    "y_metrics.head()"
   ]
  },
  {
   "cell_type": "markdown",
   "id": "f4aa1352",
   "metadata": {},
   "source": [
    "### 2.3.5 Modeling Hotel Occupancy in New Zealand (ETS)"
   ]
  },
  {
   "cell_type": "code",
   "execution_count": null,
   "id": "ece2d272",
   "metadata": {},
   "outputs": [],
   "source": [
    "#Hotels TNZ ETS\n",
    "y = accomodations['TotalCanterburyOccupancy']\n",
    "y = y.astype('float')\n",
    "\n",
    "res = seasonal_decompose(y, model='add')\n",
    "\n",
    "# Plot the original data, the trend, the seasonality, and the residuals \n",
    "fig, (ax1,ax2,ax3,ax4) = plt.subplots(4,1, figsize=(10,12), sharex=True);\n",
    "\n",
    "res.observed.plot(ax=ax1, title='Observed')\n",
    "res.seasonal.plot(ax=ax2, title='Seasonality')\n",
    "res.trend.plot(ax=ax3, title='Trend')\n",
    "res.resid.plot(ax=ax4, title='Residual IDs')"
   ]
  },
  {
   "cell_type": "code",
   "execution_count": null,
   "id": "120aa5d4",
   "metadata": {},
   "outputs": [],
   "source": [
    "ETS = ETSModel(y, error = 'add', trend = 'add', seasonal = 'mul', seasonal_periods = 12)\n",
    "ETS_fit = ETS.fit()\n",
    "\n",
    "plt.figure(figsize=(12,8))\n",
    "\n",
    "plt.title('Original and Predicted')\n",
    "plt.plot(y, label='Original')\n",
    "plt.plot(ETS_fit.fittedvalues, alpha=0.7, label='Predicted')\n",
    "\n",
    "plt.legend()\n",
    "\n",
    "plt.show()"
   ]
  },
  {
   "cell_type": "code",
   "execution_count": null,
   "id": "94179f38",
   "metadata": {},
   "outputs": [],
   "source": [
    "ETS_fit.summary()"
   ]
  },
  {
   "cell_type": "code",
   "execution_count": null,
   "id": "62e9fe32",
   "metadata": {},
   "outputs": [],
   "source": [
    "y_fore = ETS_fit.forecast(36)\n",
    "plt.figure(figsize=(15,8))\n",
    "\n",
    "plt.plot(ETS_fit.fittedvalues, alpha=0.7, label='Predicted')\n",
    "(line1,) = plt.plot(y_fore)"
   ]
  }
 ],
 "metadata": {
  "kernelspec": {
   "display_name": "Python 3 (ipykernel)",
   "language": "python",
   "name": "python3"
  },
  "language_info": {
   "codemirror_mode": {
    "name": "ipython",
    "version": 3
   },
   "file_extension": ".py",
   "mimetype": "text/x-python",
   "name": "python",
   "nbconvert_exporter": "python",
   "pygments_lexer": "ipython3",
   "version": "3.9.7"
  },
  "sos": {
   "kernels": [
    [
     "SoS",
     "sos",
     "",
     "",
     "sos"
    ],
    [
     "darts",
     "darts",
     "python",
     "",
     ""
    ]
   ],
   "panel": {
    "displayed": true,
    "height": 0
   },
   "version": "0.20.1"
  }
 },
 "nbformat": 4,
 "nbformat_minor": 5
}
